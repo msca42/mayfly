{
 "cells": [
  {
   "cell_type": "code",
   "execution_count": 2,
   "metadata": {},
   "outputs": [
    {
     "name": "stdout",
     "output_type": "stream",
     "text": [
      "   123.456\n",
      "000123.456\n",
      "123.456000\n",
      "123.456\n"
     ]
    }
   ],
   "source": [
    "number = 123.456\n",
    "print(f\"{number:10}\")\n",
    "print(f\"{number:010}\")\n",
    "print(f\"{number:4f}\")\n",
    "print(f\"{number:.3f}\")"
   ]
  }
 ],
 "metadata": {
  "kernelspec": {
   "display_name": "Python 3",
   "language": "python",
   "name": "python3"
  },
  "language_info": {
   "codemirror_mode": {
    "name": "ipython",
    "version": 3
   },
   "file_extension": ".py",
   "mimetype": "text/x-python",
   "name": "python",
   "nbconvert_exporter": "python",
   "pygments_lexer": "ipython3",
   "version": "3.13.2"
  }
 },
 "nbformat": 4,
 "nbformat_minor": 2
}
