{
 "cells": [
  {
   "cell_type": "code",
   "execution_count": 1,
   "id": "2185008d",
   "metadata": {},
   "outputs": [],
   "source": [
    "import random\n",
    "die_1 = random.randint(1,6)"
   ]
  },
  {
   "cell_type": "code",
   "execution_count": 2,
   "id": "946c3cec",
   "metadata": {},
   "outputs": [],
   "source": [
    "import random\n",
    "sides = [1,2,3,4,5,6]\n",
    "die_1 = random.choice(sides)"
   ]
  }
 ],
 "metadata": {
  "kernelspec": {
   "display_name": "Python 3",
   "language": "python",
   "name": "python3"
  },
  "language_info": {
   "codemirror_mode": {
    "name": "ipython",
    "version": 3
   },
   "file_extension": ".py",
   "mimetype": "text/x-python",
   "name": "python",
   "nbconvert_exporter": "python",
   "pygments_lexer": "ipython3",
   "version": "3.13.3"
  }
 },
 "nbformat": 4,
 "nbformat_minor": 5
}
