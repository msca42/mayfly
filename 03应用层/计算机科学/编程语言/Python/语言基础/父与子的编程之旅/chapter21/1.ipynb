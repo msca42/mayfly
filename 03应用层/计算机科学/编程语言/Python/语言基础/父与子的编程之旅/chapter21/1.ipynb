{
 "cells": [
  {
   "cell_type": "code",
   "execution_count": 1,
   "id": "5235d2ee",
   "metadata": {},
   "outputs": [
    {
     "name": "stdout",
     "output_type": "stream",
     "text": [
      "Hi\n",
      "There\n"
     ]
    }
   ],
   "source": [
    "print(\"Hi\")\n",
    "print(\"There\")"
   ]
  },
  {
   "cell_type": "code",
   "execution_count": 2,
   "id": "515043a0",
   "metadata": {},
   "outputs": [
    {
     "name": "stdout",
     "output_type": "stream",
     "text": [
      "HiThere\n"
     ]
    }
   ],
   "source": [
    "print(\"Hi\",end='')\n",
    "print(\"There\")"
   ]
  },
  {
   "cell_type": "code",
   "execution_count": 3,
   "id": "224bddcf",
   "metadata": {},
   "outputs": [
    {
     "name": "stdout",
     "output_type": "stream",
     "text": [
      "Hi There\n"
     ]
    }
   ],
   "source": [
    "print('Hi','There')"
   ]
  },
  {
   "cell_type": "code",
   "execution_count": 4,
   "id": "9e080167",
   "metadata": {},
   "outputs": [
    {
     "name": "stdout",
     "output_type": "stream",
     "text": [
      "HiThere\n"
     ]
    }
   ],
   "source": [
    "print('Hi'+'There')"
   ]
  },
  {
   "cell_type": "code",
   "execution_count": 5,
   "id": "c4af1f79",
   "metadata": {},
   "outputs": [
    {
     "name": "stdout",
     "output_type": "stream",
     "text": [
      "Hi\n",
      "\n",
      "There\n"
     ]
    }
   ],
   "source": [
    "print(\"Hi\")\n",
    "print()\n",
    "print(\"There\")"
   ]
  },
  {
   "cell_type": "code",
   "execution_count": 6,
   "id": "026acae3",
   "metadata": {},
   "outputs": [
    {
     "name": "stdout",
     "output_type": "stream",
     "text": [
      "Hello World\n"
     ]
    }
   ],
   "source": [
    "print(\"Hello World\")"
   ]
  },
  {
   "cell_type": "code",
   "execution_count": 7,
   "id": "5831003b",
   "metadata": {},
   "outputs": [
    {
     "name": "stdout",
     "output_type": "stream",
     "text": [
      "Hello \n",
      "World\n"
     ]
    }
   ],
   "source": [
    "print(\"Hello \\nWorld\")"
   ]
  },
  {
   "cell_type": "code",
   "execution_count": 8,
   "id": "048f7a28",
   "metadata": {},
   "outputs": [
    {
     "name": "stdout",
     "output_type": "stream",
     "text": [
      "ABC\tXYZ\n"
     ]
    }
   ],
   "source": [
    "print('ABC\\tXYZ')"
   ]
  },
  {
   "cell_type": "code",
   "execution_count": 9,
   "id": "b02397b3",
   "metadata": {},
   "outputs": [
    {
     "name": "stdout",
     "output_type": "stream",
     "text": [
      "It is 12.35 degrees today.\n"
     ]
    }
   ],
   "source": [
    "dec_number = 12.3456\n",
    "print('It is %.2f degrees today.' %dec_number) "
   ]
  },
  {
   "cell_type": "code",
   "execution_count": 10,
   "id": "6a86d074",
   "metadata": {},
   "outputs": [
    {
     "name": "stdout",
     "output_type": "stream",
     "text": [
      "12\n"
     ]
    }
   ],
   "source": [
    "number = 12.67\n",
    "print('%i' %number)"
   ]
  },
  {
   "cell_type": "code",
   "execution_count": 11,
   "id": "a02ada2f",
   "metadata": {},
   "outputs": [
    {
     "name": "stdout",
     "output_type": "stream",
     "text": [
      "12.67\n"
     ]
    }
   ],
   "source": [
    "print(number)"
   ]
  },
  {
   "cell_type": "code",
   "execution_count": 12,
   "id": "bae79e44",
   "metadata": {},
   "outputs": [
    {
     "name": "stdout",
     "output_type": "stream",
     "text": [
      "12.345600\n"
     ]
    }
   ],
   "source": [
    "number = 12.3456\n",
    "print('%f' % number)"
   ]
  },
  {
   "cell_type": "code",
   "execution_count": 13,
   "id": "89f87073",
   "metadata": {},
   "outputs": [
    {
     "name": "stdout",
     "output_type": "stream",
     "text": [
      "12.35\n"
     ]
    }
   ],
   "source": [
    "print('%.2f' %number)"
   ]
  },
  {
   "cell_type": "code",
   "execution_count": 14,
   "id": "3cfcf72f",
   "metadata": {},
   "outputs": [
    {
     "name": "stdout",
     "output_type": "stream",
     "text": [
      "12.34560000\n"
     ]
    }
   ],
   "source": [
    "print('%.8f' %number)"
   ]
  },
  {
   "cell_type": "code",
   "execution_count": 15,
   "id": "e5d56880",
   "metadata": {},
   "outputs": [
    {
     "name": "stdout",
     "output_type": "stream",
     "text": [
      "+12.345600\n"
     ]
    }
   ],
   "source": [
    "print('%+f' %number)"
   ]
  },
  {
   "cell_type": "code",
   "execution_count": 16,
   "id": "64d9a170",
   "metadata": {},
   "outputs": [
    {
     "name": "stdout",
     "output_type": "stream",
     "text": [
      "-98.76\n"
     ]
    }
   ],
   "source": [
    "number2 = -98.76\n",
    "print('%.2f' %number2)"
   ]
  },
  {
   "cell_type": "code",
   "execution_count": 17,
   "id": "8d379af5",
   "metadata": {},
   "outputs": [
    {
     "name": "stdout",
     "output_type": "stream",
     "text": [
      "12.35\n"
     ]
    }
   ],
   "source": [
    "print('%.2f'%number)"
   ]
  },
  {
   "cell_type": "code",
   "execution_count": 18,
   "id": "5a472edd",
   "metadata": {},
   "outputs": [
    {
     "name": "stdout",
     "output_type": "stream",
     "text": [
      "1.234560e+01\n"
     ]
    }
   ],
   "source": [
    "number = 12.3456\n",
    "print('%e' %number)"
   ]
  },
  {
   "cell_type": "code",
   "execution_count": 19,
   "id": "213c1945",
   "metadata": {},
   "outputs": [
    {
     "name": "stdout",
     "output_type": "stream",
     "text": [
      "1.235e+01\n"
     ]
    }
   ],
   "source": [
    "print('%.3e' %number)"
   ]
  },
  {
   "cell_type": "code",
   "execution_count": 20,
   "id": "5548da56",
   "metadata": {},
   "outputs": [
    {
     "name": "stdout",
     "output_type": "stream",
     "text": [
      "1.23456000e+01\n"
     ]
    }
   ],
   "source": [
    "print('%.8e' %number)"
   ]
  },
  {
   "cell_type": "code",
   "execution_count": 21,
   "id": "091017bd",
   "metadata": {},
   "outputs": [
    {
     "name": "stdout",
     "output_type": "stream",
     "text": [
      "1.234560E+01\n"
     ]
    }
   ],
   "source": [
    "print('%E' %number)"
   ]
  },
  {
   "cell_type": "code",
   "execution_count": 23,
   "id": "89c91666",
   "metadata": {},
   "outputs": [
    {
     "name": "stdout",
     "output_type": "stream",
     "text": [
      "12.3\n"
     ]
    }
   ],
   "source": [
    "number1 = 12.3\n",
    "number2 = 456712345.6\n",
    "print('%g' %number1)"
   ]
  },
  {
   "cell_type": "code",
   "execution_count": 24,
   "id": "edf0b104",
   "metadata": {},
   "outputs": [
    {
     "name": "stdout",
     "output_type": "stream",
     "text": [
      "4.56712e+08\n"
     ]
    }
   ],
   "source": [
    "print('%g' %number2)"
   ]
  },
  {
   "cell_type": "code",
   "execution_count": 25,
   "id": "824a1938",
   "metadata": {},
   "outputs": [
    {
     "name": "stdout",
     "output_type": "stream",
     "text": [
      "I got 75.4% on my math test...\n"
     ]
    }
   ],
   "source": [
    "math = 75.4\n",
    "print('I got %.1f%% on my math test...' % math)"
   ]
  },
  {
   "cell_type": "code",
   "execution_count": 26,
   "id": "5850c063",
   "metadata": {},
   "outputs": [
    {
     "name": "stdout",
     "output_type": "stream",
     "text": [
      "I got 75.4% on my math and 82.1 in science\n"
     ]
    }
   ],
   "source": [
    "math = 75.4\n",
    "science = 82.1\n",
    "print('I got %.1f%% on my math and %.1f in science' %(math,science))"
   ]
  }
 ],
 "metadata": {
  "kernelspec": {
   "display_name": "Python 3",
   "language": "python",
   "name": "python3"
  },
  "language_info": {
   "codemirror_mode": {
    "name": "ipython",
    "version": 3
   },
   "file_extension": ".py",
   "mimetype": "text/x-python",
   "name": "python",
   "nbconvert_exporter": "python",
   "pygments_lexer": "ipython3",
   "version": "3.13.3"
  }
 },
 "nbformat": 4,
 "nbformat_minor": 5
}
