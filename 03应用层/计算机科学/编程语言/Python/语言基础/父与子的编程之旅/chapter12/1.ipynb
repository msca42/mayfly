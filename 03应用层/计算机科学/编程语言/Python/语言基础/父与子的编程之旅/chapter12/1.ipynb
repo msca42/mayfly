{
 "cells": [
  {
   "cell_type": "code",
   "execution_count": 1,
   "id": "6c16130e",
   "metadata": {},
   "outputs": [
    {
     "name": "stdout",
     "output_type": "stream",
     "text": [
      "['David']\n"
     ]
    }
   ],
   "source": [
    "friends = []\n",
    "friends.append('David')\n",
    "print(friends)"
   ]
  },
  {
   "cell_type": "code",
   "execution_count": 2,
   "id": "6379d2b6",
   "metadata": {},
   "outputs": [
    {
     "name": "stdout",
     "output_type": "stream",
     "text": [
      "['David', 'Mary']\n"
     ]
    }
   ],
   "source": [
    "friends.append('Mary')\n",
    "print(friends)"
   ]
  },
  {
   "cell_type": "code",
   "execution_count": 4,
   "id": "b071935c",
   "metadata": {},
   "outputs": [],
   "source": [
    "letters = ['a','b','c','d','e']"
   ]
  },
  {
   "cell_type": "code",
   "execution_count": 5,
   "id": "5267349c",
   "metadata": {},
   "outputs": [
    {
     "name": "stdout",
     "output_type": "stream",
     "text": [
      "a\n"
     ]
    }
   ],
   "source": [
    "print(letters[0])"
   ]
  },
  {
   "cell_type": "code",
   "execution_count": 6,
   "id": "a2c9dc91",
   "metadata": {},
   "outputs": [
    {
     "name": "stdout",
     "output_type": "stream",
     "text": [
      "d\n"
     ]
    }
   ],
   "source": [
    "print(letters[3])"
   ]
  },
  {
   "cell_type": "code",
   "execution_count": 7,
   "id": "60f7d20c",
   "metadata": {},
   "outputs": [
    {
     "name": "stdout",
     "output_type": "stream",
     "text": [
      "['b', 'c', 'd']\n"
     ]
    }
   ],
   "source": [
    "print(letters[1:4])"
   ]
  },
  {
   "cell_type": "code",
   "execution_count": 8,
   "id": "3a497bf9",
   "metadata": {},
   "outputs": [
    {
     "name": "stdout",
     "output_type": "stream",
     "text": [
      "<class 'str'>\n"
     ]
    }
   ],
   "source": [
    "print(type(letters[1]))"
   ]
  },
  {
   "cell_type": "code",
   "execution_count": 9,
   "id": "4455576b",
   "metadata": {},
   "outputs": [
    {
     "name": "stdout",
     "output_type": "stream",
     "text": [
      "<class 'list'>\n"
     ]
    }
   ],
   "source": [
    "print(type(letters[1:2]))"
   ]
  },
  {
   "cell_type": "code",
   "execution_count": 10,
   "id": "27560beb",
   "metadata": {},
   "outputs": [
    {
     "name": "stdout",
     "output_type": "stream",
     "text": [
      "['a', 'b']\n"
     ]
    }
   ],
   "source": [
    "print(letters[:2])"
   ]
  },
  {
   "cell_type": "code",
   "execution_count": 11,
   "id": "5abe4515",
   "metadata": {},
   "outputs": [
    {
     "name": "stdout",
     "output_type": "stream",
     "text": [
      "['c', 'd', 'e']\n"
     ]
    }
   ],
   "source": [
    "print(letters[2:])"
   ]
  },
  {
   "cell_type": "code",
   "execution_count": 12,
   "id": "c3339174",
   "metadata": {},
   "outputs": [
    {
     "name": "stdout",
     "output_type": "stream",
     "text": [
      "['a', 'b', 'c', 'd', 'e']\n"
     ]
    }
   ],
   "source": [
    "print(letters[:])"
   ]
  },
  {
   "cell_type": "code",
   "execution_count": 13,
   "id": "95e1a19d",
   "metadata": {},
   "outputs": [
    {
     "name": "stdout",
     "output_type": "stream",
     "text": [
      "['a', 'b', 'c', 'd', 'e']\n"
     ]
    }
   ],
   "source": [
    "print(letters)"
   ]
  },
  {
   "cell_type": "code",
   "execution_count": 14,
   "id": "09b733e1",
   "metadata": {},
   "outputs": [],
   "source": [
    "letters[2]='z'"
   ]
  },
  {
   "cell_type": "code",
   "execution_count": 15,
   "id": "de615257",
   "metadata": {},
   "outputs": [
    {
     "name": "stdout",
     "output_type": "stream",
     "text": [
      "['a', 'b', 'z', 'd', 'e']\n"
     ]
    }
   ],
   "source": [
    "print(letters)"
   ]
  },
  {
   "cell_type": "code",
   "execution_count": 16,
   "id": "7a2d1631",
   "metadata": {},
   "outputs": [],
   "source": [
    "letters.append('n')"
   ]
  },
  {
   "cell_type": "code",
   "execution_count": 17,
   "id": "c82f9755",
   "metadata": {},
   "outputs": [
    {
     "name": "stdout",
     "output_type": "stream",
     "text": [
      "['a', 'b', 'z', 'd', 'e', 'n']\n"
     ]
    }
   ],
   "source": [
    "print(letters)"
   ]
  },
  {
   "cell_type": "code",
   "execution_count": 18,
   "id": "660618e1",
   "metadata": {},
   "outputs": [],
   "source": [
    "letters.append('g')"
   ]
  },
  {
   "cell_type": "code",
   "execution_count": 19,
   "id": "5fa11456",
   "metadata": {},
   "outputs": [
    {
     "name": "stdout",
     "output_type": "stream",
     "text": [
      "['a', 'b', 'z', 'd', 'e', 'n', 'g']\n"
     ]
    }
   ],
   "source": [
    "print(letters)"
   ]
  },
  {
   "cell_type": "code",
   "execution_count": 20,
   "id": "443aa44f",
   "metadata": {},
   "outputs": [
    {
     "name": "stdout",
     "output_type": "stream",
     "text": [
      "['a', 'b', 'z', 'd', 'e', 'n', 'g', 'p', 'q', 'r']\n"
     ]
    }
   ],
   "source": [
    "letters.extend(['p','q','r'])\n",
    "print(letters)"
   ]
  },
  {
   "cell_type": "code",
   "execution_count": 22,
   "id": "c7166d1c",
   "metadata": {},
   "outputs": [
    {
     "name": "stdout",
     "output_type": "stream",
     "text": [
      "['a', 'z', 'b', 'z', 'z', 'd', 'e', 'n', 'g', 'p', 'q', 'r']\n"
     ]
    }
   ],
   "source": [
    "letters.insert(1,'z')\n",
    "print(letters)"
   ]
  },
  {
   "cell_type": "code",
   "execution_count": 23,
   "id": "f0dfe127",
   "metadata": {},
   "outputs": [
    {
     "name": "stdout",
     "output_type": "stream",
     "text": [
      "['a', 'b', 'd', 'e']\n"
     ]
    }
   ],
   "source": [
    "letters = ['a','b','c','d','e']\n",
    "letters.remove('c')\n",
    "print(letters)"
   ]
  },
  {
   "cell_type": "code",
   "execution_count": 24,
   "id": "2f8a2a1d",
   "metadata": {},
   "outputs": [
    {
     "name": "stdout",
     "output_type": "stream",
     "text": [
      "['a', 'b', 'c', 'e']\n"
     ]
    }
   ],
   "source": [
    "letters = ['a','b','c','d','e']\n",
    "del letters[3]\n",
    "print(letters)"
   ]
  },
  {
   "cell_type": "code",
   "execution_count": 25,
   "id": "b0cf2e2b",
   "metadata": {},
   "outputs": [
    {
     "name": "stdout",
     "output_type": "stream",
     "text": [
      "['a', 'b', 'c', 'd']\n",
      "e\n"
     ]
    }
   ],
   "source": [
    "letters = ['a','b','c','d','e']\n",
    "lastLetter = letters.pop()\n",
    "print(letters)\n",
    "print(lastLetter)"
   ]
  },
  {
   "cell_type": "code",
   "execution_count": 26,
   "id": "797c95ff",
   "metadata": {},
   "outputs": [
    {
     "name": "stdout",
     "output_type": "stream",
     "text": [
      "b\n"
     ]
    }
   ],
   "source": [
    "letters = ['a','b','c','d','e']\n",
    "second = letters.pop(1)\n",
    "print(second)"
   ]
  },
  {
   "cell_type": "code",
   "execution_count": 27,
   "id": "5154494b",
   "metadata": {},
   "outputs": [
    {
     "name": "stdout",
     "output_type": "stream",
     "text": [
      "['a', 'c', 'd', 'e']\n"
     ]
    }
   ],
   "source": [
    "print(letters)"
   ]
  },
  {
   "cell_type": "code",
   "execution_count": 28,
   "id": "c9a9dc61",
   "metadata": {},
   "outputs": [
    {
     "name": "stdout",
     "output_type": "stream",
     "text": [
      "found 'a' in letters\n"
     ]
    }
   ],
   "source": [
    "if 'a' in letters:\n",
    "  print(\"found 'a' in letters\")\n",
    "else:\n",
    "  print(\"didn't find 'a' in letters\")"
   ]
  },
  {
   "cell_type": "code",
   "execution_count": 29,
   "id": "8ab89e72",
   "metadata": {},
   "outputs": [
    {
     "data": {
      "text/plain": [
       "True"
      ]
     },
     "execution_count": 29,
     "metadata": {},
     "output_type": "execute_result"
    }
   ],
   "source": [
    "'a' in letters"
   ]
  },
  {
   "cell_type": "code",
   "execution_count": 30,
   "id": "1ffcc54f",
   "metadata": {},
   "outputs": [
    {
     "data": {
      "text/plain": [
       "False"
      ]
     },
     "execution_count": 30,
     "metadata": {},
     "output_type": "execute_result"
    }
   ],
   "source": [
    "'s' in letters"
   ]
  },
  {
   "cell_type": "code",
   "execution_count": 31,
   "id": "fcaf9296",
   "metadata": {},
   "outputs": [
    {
     "name": "stdout",
     "output_type": "stream",
     "text": [
      "3\n"
     ]
    }
   ],
   "source": [
    "letters = ['a','b','c','d','e']\n",
    "print(letters.index('d'))"
   ]
  },
  {
   "cell_type": "code",
   "execution_count": 32,
   "id": "eebee3d9",
   "metadata": {},
   "outputs": [
    {
     "name": "stdout",
     "output_type": "stream",
     "text": [
      "['d', 'a', 'e', 'c', 'b']\n"
     ]
    }
   ],
   "source": [
    "letters = ['d','a','e','c','b']\n",
    "print(letters)"
   ]
  },
  {
   "cell_type": "code",
   "execution_count": 33,
   "id": "3aa528b1",
   "metadata": {},
   "outputs": [
    {
     "name": "stdout",
     "output_type": "stream",
     "text": [
      "['a', 'b', 'c', 'd', 'e']\n"
     ]
    }
   ],
   "source": [
    "letters.sort()\n",
    "print(letters)"
   ]
  },
  {
   "cell_type": "code",
   "execution_count": 34,
   "id": "397ac69b",
   "metadata": {},
   "outputs": [
    {
     "name": "stdout",
     "output_type": "stream",
     "text": [
      "['e', 'd', 'c', 'b', 'a']\n"
     ]
    }
   ],
   "source": [
    "letters.reverse()\n",
    "print(letters)"
   ]
  },
  {
   "cell_type": "code",
   "execution_count": 35,
   "id": "552d1ce0",
   "metadata": {},
   "outputs": [],
   "source": [
    "original_list = ['Tom','James','Sarah','Fred']\n",
    "new_list = original_list[:]"
   ]
  },
  {
   "cell_type": "code",
   "execution_count": 36,
   "id": "95175cba",
   "metadata": {},
   "outputs": [],
   "source": [
    "new_list.sort()"
   ]
  },
  {
   "cell_type": "code",
   "execution_count": 37,
   "id": "399b68a2",
   "metadata": {},
   "outputs": [
    {
     "name": "stdout",
     "output_type": "stream",
     "text": [
      "['Tom', 'James', 'Sarah', 'Fred']\n"
     ]
    }
   ],
   "source": [
    "print(original_list)"
   ]
  },
  {
   "cell_type": "code",
   "execution_count": 38,
   "id": "6cb1a8b9",
   "metadata": {},
   "outputs": [
    {
     "name": "stdout",
     "output_type": "stream",
     "text": [
      "['Fred', 'James', 'Sarah', 'Tom']\n"
     ]
    }
   ],
   "source": [
    "print(new_list)"
   ]
  },
  {
   "cell_type": "code",
   "execution_count": 39,
   "id": "5860263d",
   "metadata": {},
   "outputs": [],
   "source": [
    "original = [5,2,3,1,4]"
   ]
  },
  {
   "cell_type": "code",
   "execution_count": 40,
   "id": "2f6a0f03",
   "metadata": {},
   "outputs": [],
   "source": [
    "newer = sorted(original)"
   ]
  },
  {
   "cell_type": "code",
   "execution_count": 41,
   "id": "2c269734",
   "metadata": {},
   "outputs": [
    {
     "name": "stdout",
     "output_type": "stream",
     "text": [
      "[5, 2, 3, 1, 4]\n"
     ]
    }
   ],
   "source": [
    "print(original)"
   ]
  },
  {
   "cell_type": "code",
   "execution_count": 42,
   "id": "03504452",
   "metadata": {},
   "outputs": [
    {
     "name": "stdout",
     "output_type": "stream",
     "text": [
      "[1, 2, 3, 4, 5]\n"
     ]
    }
   ],
   "source": [
    "print(newer)"
   ]
  },
  {
   "cell_type": "code",
   "execution_count": null,
   "id": "20464c8f",
   "metadata": {},
   "outputs": [],
   "source": [
    "my_tuple = ('red','green','blue')"
   ]
  },
  {
   "cell_type": "code",
   "execution_count": 43,
   "id": "4aa1bad6",
   "metadata": {},
   "outputs": [],
   "source": [
    "joeMarks = [55,63,77,81]\n",
    "tomMarks = [65,61,67,72]\n",
    "bethMarks = [97,95,92,88]\n",
    "mathMarkss = [55,65,97]\n",
    "scienceMarks = [63,61,95]\n",
    "readingMarks = [77,67,92]\n",
    "spellingMarks = [81,72,88]"
   ]
  },
  {
   "cell_type": "code",
   "execution_count": 44,
   "id": "e6346b4e",
   "metadata": {},
   "outputs": [],
   "source": [
    "classMarks = [joeMarks,tomMarks,bethMarks]"
   ]
  },
  {
   "cell_type": "code",
   "execution_count": 45,
   "id": "b9173e80",
   "metadata": {},
   "outputs": [
    {
     "name": "stdout",
     "output_type": "stream",
     "text": [
      "[[55, 63, 77, 81], [65, 61, 67, 72], [97, 95, 92, 88]]\n"
     ]
    }
   ],
   "source": [
    "print(classMarks)"
   ]
  },
  {
   "cell_type": "code",
   "execution_count": 46,
   "id": "ee196aba",
   "metadata": {},
   "outputs": [
    {
     "name": "stdout",
     "output_type": "stream",
     "text": [
      "[55, 63, 77, 81]\n",
      "[65, 61, 67, 72]\n",
      "[97, 95, 92, 88]\n"
     ]
    }
   ],
   "source": [
    "for studentMarks in classMarks:\n",
    "  print(studentMarks)"
   ]
  },
  {
   "cell_type": "code",
   "execution_count": 47,
   "id": "6022fa36",
   "metadata": {},
   "outputs": [
    {
     "name": "stdout",
     "output_type": "stream",
     "text": [
      "[55, 63, 77, 81]\n"
     ]
    }
   ],
   "source": [
    "print(classMarks[0])"
   ]
  },
  {
   "cell_type": "code",
   "execution_count": 48,
   "id": "6927b23a",
   "metadata": {},
   "outputs": [
    {
     "name": "stdout",
     "output_type": "stream",
     "text": [
      "77\n"
     ]
    }
   ],
   "source": [
    "print(classMarks[0][2])"
   ]
  },
  {
   "cell_type": "code",
   "execution_count": 49,
   "id": "7c5ba8ab",
   "metadata": {},
   "outputs": [],
   "source": [
    "phoneNumbers = {}"
   ]
  },
  {
   "cell_type": "code",
   "execution_count": 50,
   "id": "7ca2afa1",
   "metadata": {},
   "outputs": [],
   "source": [
    "phoneNumbers[\"John\"] = \"555-1234\""
   ]
  },
  {
   "cell_type": "code",
   "execution_count": 51,
   "id": "14018a39",
   "metadata": {},
   "outputs": [
    {
     "name": "stdout",
     "output_type": "stream",
     "text": [
      "{'John': '555-1234'}\n"
     ]
    }
   ],
   "source": [
    "print(phoneNumbers)"
   ]
  },
  {
   "cell_type": "code",
   "execution_count": 52,
   "id": "b2131ec8",
   "metadata": {},
   "outputs": [],
   "source": [
    "phoneNumbers[\"Mary\"] = \"555-6789\"\n",
    "phoneNumbers[\"Bob\"] = \"444-4321\"\n",
    "phoneNumbers[\"Jenny\"] = \"867-5300\""
   ]
  },
  {
   "cell_type": "code",
   "execution_count": 53,
   "id": "68671d49",
   "metadata": {},
   "outputs": [
    {
     "name": "stdout",
     "output_type": "stream",
     "text": [
      "{'John': '555-1234', 'Mary': '555-6789', 'Bob': '444-4321', 'Jenny': '867-5300'}\n"
     ]
    }
   ],
   "source": [
    "print(phoneNumbers)"
   ]
  },
  {
   "cell_type": "code",
   "execution_count": 54,
   "id": "6491d3e2",
   "metadata": {},
   "outputs": [
    {
     "data": {
      "text/plain": [
       "dict_keys(['John', 'Mary', 'Bob', 'Jenny'])"
      ]
     },
     "execution_count": 54,
     "metadata": {},
     "output_type": "execute_result"
    }
   ],
   "source": [
    "phoneNumbers.keys()"
   ]
  },
  {
   "cell_type": "code",
   "execution_count": 55,
   "id": "da409101",
   "metadata": {},
   "outputs": [
    {
     "data": {
      "text/plain": [
       "dict_values(['555-1234', '555-6789', '444-4321', '867-5300'])"
      ]
     },
     "execution_count": 55,
     "metadata": {},
     "output_type": "execute_result"
    }
   ],
   "source": [
    "phoneNumbers.values()"
   ]
  },
  {
   "cell_type": "code",
   "execution_count": 56,
   "id": "fd4dc0c3",
   "metadata": {},
   "outputs": [
    {
     "data": {
      "text/plain": [
       "['John', 'Mary', 'Bob', 'Jenny']"
      ]
     },
     "execution_count": 56,
     "metadata": {},
     "output_type": "execute_result"
    }
   ],
   "source": [
    "list(phoneNumbers.keys())"
   ]
  },
  {
   "cell_type": "code",
   "execution_count": 57,
   "id": "1053df4f",
   "metadata": {},
   "outputs": [
    {
     "data": {
      "text/plain": [
       "['H', 'e', 'l', 'l', 'o', '!']"
      ]
     },
     "execution_count": 57,
     "metadata": {},
     "output_type": "execute_result"
    }
   ],
   "source": [
    "list(\"Hello!\")"
   ]
  }
 ],
 "metadata": {
  "kernelspec": {
   "display_name": "Python 3",
   "language": "python",
   "name": "python3"
  },
  "language_info": {
   "codemirror_mode": {
    "name": "ipython",
    "version": 3
   },
   "file_extension": ".py",
   "mimetype": "text/x-python",
   "name": "python",
   "nbconvert_exporter": "python",
   "pygments_lexer": "ipython3",
   "version": "3.13.3"
  }
 },
 "nbformat": 4,
 "nbformat_minor": 5
}
