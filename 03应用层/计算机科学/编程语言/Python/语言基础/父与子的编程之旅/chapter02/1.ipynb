{
 "cells": [
  {
   "cell_type": "code",
   "execution_count": 1,
   "id": "032555ac",
   "metadata": {},
   "outputs": [
    {
     "name": "stdout",
     "output_type": "stream",
     "text": [
      "Mr. Morton\n"
     ]
    }
   ],
   "source": [
    "Teacher= \"Mr. Morton\"\n",
    "print(Teacher)"
   ]
  },
  {
   "cell_type": "code",
   "execution_count": 2,
   "id": "4575c392",
   "metadata": {},
   "outputs": [
    {
     "name": "stdout",
     "output_type": "stream",
     "text": [
      "53 + 28\n"
     ]
    }
   ],
   "source": [
    "print(\"53 + 28\")"
   ]
  },
  {
   "cell_type": "code",
   "execution_count": 3,
   "id": "a2b900c3",
   "metadata": {},
   "outputs": [
    {
     "name": "stdout",
     "output_type": "stream",
     "text": [
      "81\n"
     ]
    }
   ],
   "source": [
    "print(53 + 28)"
   ]
  },
  {
   "cell_type": "code",
   "execution_count": 4,
   "id": "33ced94f",
   "metadata": {},
   "outputs": [
    {
     "data": {
      "text/plain": [
       "8"
      ]
     },
     "execution_count": 4,
     "metadata": {},
     "output_type": "execute_result"
    }
   ],
   "source": [
    "5 + 3"
   ]
  },
  {
   "cell_type": "code",
   "execution_count": 5,
   "id": "3f00eb74",
   "metadata": {},
   "outputs": [],
   "source": [
    "First = 5"
   ]
  },
  {
   "cell_type": "code",
   "execution_count": 6,
   "id": "0e3b46cc",
   "metadata": {},
   "outputs": [],
   "source": [
    "Second = 3"
   ]
  },
  {
   "cell_type": "code",
   "execution_count": 7,
   "id": "2ba1e1fa",
   "metadata": {},
   "outputs": [
    {
     "name": "stdout",
     "output_type": "stream",
     "text": [
      "8\n"
     ]
    }
   ],
   "source": [
    "print(First + Second)"
   ]
  },
  {
   "cell_type": "code",
   "execution_count": 8,
   "id": "e4759655",
   "metadata": {},
   "outputs": [],
   "source": [
    "Third = First + Second"
   ]
  },
  {
   "cell_type": "code",
   "execution_count": 9,
   "id": "03aa84b1",
   "metadata": {},
   "outputs": [
    {
     "data": {
      "text/plain": [
       "8"
      ]
     },
     "execution_count": 9,
     "metadata": {},
     "output_type": "execute_result"
    }
   ],
   "source": [
    "Third"
   ]
  },
  {
   "cell_type": "code",
   "execution_count": 10,
   "id": "06314ee3",
   "metadata": {},
   "outputs": [],
   "source": [
    "MyTeacher = \"Mrs. Goodyear\""
   ]
  },
  {
   "cell_type": "code",
   "execution_count": 11,
   "id": "60b5f176",
   "metadata": {},
   "outputs": [],
   "source": [
    "YourTeacher = MyTeacher"
   ]
  },
  {
   "cell_type": "code",
   "execution_count": 12,
   "id": "4f3d5f31",
   "metadata": {},
   "outputs": [
    {
     "data": {
      "text/plain": [
       "'Mrs. Goodyear'"
      ]
     },
     "execution_count": 12,
     "metadata": {},
     "output_type": "execute_result"
    }
   ],
   "source": [
    "MyTeacher"
   ]
  },
  {
   "cell_type": "code",
   "execution_count": 13,
   "id": "124a4314",
   "metadata": {},
   "outputs": [
    {
     "data": {
      "text/plain": [
       "'Mrs. Goodyear'"
      ]
     },
     "execution_count": 13,
     "metadata": {},
     "output_type": "execute_result"
    }
   ],
   "source": [
    "YourTeacher"
   ]
  },
  {
   "cell_type": "code",
   "execution_count": 14,
   "id": "e5bca21f",
   "metadata": {},
   "outputs": [],
   "source": [
    "teacher = \"Mr. Morton\""
   ]
  },
  {
   "cell_type": "code",
   "execution_count": 15,
   "id": "9822352a",
   "metadata": {},
   "outputs": [],
   "source": [
    "teacher = 'Mr. Morton'"
   ]
  },
  {
   "cell_type": "code",
   "execution_count": 17,
   "id": "d0de10ba",
   "metadata": {},
   "outputs": [
    {
     "data": {
      "text/plain": [
       "8"
      ]
     },
     "execution_count": 17,
     "metadata": {},
     "output_type": "execute_result"
    }
   ],
   "source": [
    "first  = 5\n",
    "second = 3\n",
    "first + second"
   ]
  },
  {
   "cell_type": "code",
   "execution_count": 18,
   "id": "5bec8a7b",
   "metadata": {},
   "outputs": [
    {
     "data": {
      "text/plain": [
       "'53'"
      ]
     },
     "execution_count": 18,
     "metadata": {},
     "output_type": "execute_result"
    }
   ],
   "source": [
    "first  = '5'\n",
    "second = '3'\n",
    "first + second"
   ]
  },
  {
   "cell_type": "code",
   "execution_count": 19,
   "id": "f1515c0b",
   "metadata": {},
   "outputs": [
    {
     "name": "stdout",
     "output_type": "stream",
     "text": [
      "catdog\n"
     ]
    }
   ],
   "source": [
    "print(\"cat\" + \"dog\")"
   ]
  },
  {
   "cell_type": "code",
   "execution_count": 20,
   "id": "8a766891",
   "metadata": {},
   "outputs": [],
   "source": [
    "long_string = \"\"\"Sing a song of sixpence, a pocket full of rye.\n",
    "Four and twenty blackbirds baked in a pie.\n",
    "When the pie was opened the birds began to sing.\n",
    "Wasn't that a dainty dish to set before the king?\"\"\""
   ]
  },
  {
   "cell_type": "code",
   "execution_count": 21,
   "id": "cecf377e",
   "metadata": {},
   "outputs": [
    {
     "data": {
      "text/plain": [
       "'Mr. Morton'"
      ]
     },
     "execution_count": 21,
     "metadata": {},
     "output_type": "execute_result"
    }
   ],
   "source": [
    "Teacher"
   ]
  },
  {
   "cell_type": "code",
   "execution_count": 22,
   "id": "f6e858cc",
   "metadata": {},
   "outputs": [],
   "source": [
    "Teacher = \"Mr. Smith\""
   ]
  },
  {
   "cell_type": "code",
   "execution_count": 23,
   "id": "03ea382f",
   "metadata": {},
   "outputs": [
    {
     "data": {
      "text/plain": [
       "'Mr. Smith'"
      ]
     },
     "execution_count": 23,
     "metadata": {},
     "output_type": "execute_result"
    }
   ],
   "source": [
    "Teacher"
   ]
  },
  {
   "cell_type": "code",
   "execution_count": 24,
   "id": "7aecd9ce",
   "metadata": {},
   "outputs": [],
   "source": [
    "Score = 7"
   ]
  },
  {
   "cell_type": "code",
   "execution_count": 25,
   "id": "b6938acc",
   "metadata": {},
   "outputs": [],
   "source": [
    "Score = Score"
   ]
  },
  {
   "cell_type": "code",
   "execution_count": 26,
   "id": "ca1463a1",
   "metadata": {},
   "outputs": [],
   "source": [
    "Score = Score + 1"
   ]
  },
  {
   "cell_type": "code",
   "execution_count": 27,
   "id": "df9ce061",
   "metadata": {},
   "outputs": [
    {
     "name": "stdout",
     "output_type": "stream",
     "text": [
      "8\n"
     ]
    }
   ],
   "source": [
    "print(Score)"
   ]
  },
  {
   "cell_type": "code",
   "execution_count": 29,
   "id": "69da98bb",
   "metadata": {},
   "outputs": [],
   "source": [
    "t = 'Mr. Morton'\n",
    "x1796vc47blahblah = 'Mr. Morton'"
   ]
  }
 ],
 "metadata": {
  "kernelspec": {
   "display_name": "Python 3",
   "language": "python",
   "name": "python3"
  },
  "language_info": {
   "codemirror_mode": {
    "name": "ipython",
    "version": 3
   },
   "file_extension": ".py",
   "mimetype": "text/x-python",
   "name": "python",
   "nbconvert_exporter": "python",
   "pygments_lexer": "ipython3",
   "version": "3.13.3"
  }
 },
 "nbformat": 4,
 "nbformat_minor": 5
}
