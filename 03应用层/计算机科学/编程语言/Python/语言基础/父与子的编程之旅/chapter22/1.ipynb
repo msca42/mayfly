{
 "cells": [
  {
   "cell_type": "code",
   "execution_count": 1,
   "id": "89cef94a",
   "metadata": {},
   "outputs": [],
   "source": [
    "my_file = open(\"new_file.txt\",'w')\n",
    "print(\"Hello there, neighbor!\", file=my_file)\n",
    "my_file.close()"
   ]
  }
 ],
 "metadata": {
  "kernelspec": {
   "display_name": "Python 3",
   "language": "python",
   "name": "python3"
  },
  "language_info": {
   "codemirror_mode": {
    "name": "ipython",
    "version": 3
   },
   "file_extension": ".py",
   "mimetype": "text/x-python",
   "name": "python",
   "nbconvert_exporter": "python",
   "pygments_lexer": "ipython3",
   "version": "3.13.3"
  }
 },
 "nbformat": 4,
 "nbformat_minor": 5
}
