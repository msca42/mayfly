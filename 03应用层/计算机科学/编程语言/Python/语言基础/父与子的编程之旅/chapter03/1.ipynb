{
 "cells": [
  {
   "cell_type": "code",
   "execution_count": 1,
   "id": "b6ef9e1e",
   "metadata": {},
   "outputs": [
    {
     "name": "stdout",
     "output_type": "stream",
     "text": [
      "3\n"
     ]
    }
   ],
   "source": [
    "print(8 - 5)"
   ]
  },
  {
   "cell_type": "code",
   "execution_count": 2,
   "id": "f5e5707b",
   "metadata": {},
   "outputs": [
    {
     "name": "stdout",
     "output_type": "stream",
     "text": [
      "3.5\n"
     ]
    }
   ],
   "source": [
    "print(7 / 2)"
   ]
  },
  {
   "cell_type": "code",
   "execution_count": 3,
   "id": "613ce4aa",
   "metadata": {},
   "outputs": [
    {
     "name": "stdout",
     "output_type": "stream",
     "text": [
      "14\n"
     ]
    }
   ],
   "source": [
    "print(2 + 3 * 4)"
   ]
  },
  {
   "cell_type": "code",
   "execution_count": 4,
   "id": "3d29ba47",
   "metadata": {},
   "outputs": [
    {
     "name": "stdout",
     "output_type": "stream",
     "text": [
      "20\n"
     ]
    }
   ],
   "source": [
    "print((2 + 3) * 4)"
   ]
  },
  {
   "cell_type": "code",
   "execution_count": 5,
   "id": "6cbb75b1",
   "metadata": {},
   "outputs": [
    {
     "name": "stdout",
     "output_type": "stream",
     "text": [
      "3\n"
     ]
    }
   ],
   "source": [
    "print(7 // 2)"
   ]
  },
  {
   "cell_type": "code",
   "execution_count": 6,
   "id": "b930c73b",
   "metadata": {},
   "outputs": [
    {
     "name": "stdout",
     "output_type": "stream",
     "text": [
      "1\n"
     ]
    }
   ],
   "source": [
    "print(7 % 2)"
   ]
  },
  {
   "cell_type": "code",
   "execution_count": 7,
   "id": "3ec7f18d",
   "metadata": {},
   "outputs": [
    {
     "name": "stdout",
     "output_type": "stream",
     "text": [
      "243\n"
     ]
    }
   ],
   "source": [
    "print(3 * 3 * 3 * 3 * 3)"
   ]
  },
  {
   "cell_type": "code",
   "execution_count": 8,
   "id": "23b16db8",
   "metadata": {},
   "outputs": [
    {
     "name": "stdout",
     "output_type": "stream",
     "text": [
      "243\n"
     ]
    }
   ],
   "source": [
    "print(3 ** 5)"
   ]
  },
  {
   "cell_type": "code",
   "execution_count": 9,
   "id": "cefbcd4c",
   "metadata": {},
   "outputs": [
    {
     "name": "stdout",
     "output_type": "stream",
     "text": [
      "420.8883462392372\n"
     ]
    }
   ],
   "source": [
    "print(3 ** 5.5)"
   ]
  },
  {
   "cell_type": "code",
   "execution_count": 10,
   "id": "67ff71d0",
   "metadata": {},
   "outputs": [
    {
     "name": "stdout",
     "output_type": "stream",
     "text": [
      "8\n"
     ]
    }
   ],
   "source": [
    "number = 7 \n",
    "number += 1\n",
    "print(number)"
   ]
  },
  {
   "cell_type": "code",
   "execution_count": 11,
   "id": "a331e0a5",
   "metadata": {},
   "outputs": [
    {
     "name": "stdout",
     "output_type": "stream",
     "text": [
      "6\n"
     ]
    }
   ],
   "source": [
    "number = 7 \n",
    "number -= 1\n",
    "print(number)"
   ]
  },
  {
   "cell_type": "code",
   "execution_count": 12,
   "id": "aadbbe04",
   "metadata": {},
   "outputs": [
    {
     "name": "stdout",
     "output_type": "stream",
     "text": [
      "4.793897174132799e+25\n"
     ]
    }
   ],
   "source": [
    "print(9938712345656.34 * 4823459023067.456)"
   ]
  },
  {
   "cell_type": "code",
   "execution_count": 13,
   "id": "61c71316",
   "metadata": {},
   "outputs": [
    {
     "name": "stdout",
     "output_type": "stream",
     "text": [
      "14500000.0\n"
     ]
    }
   ],
   "source": [
    "a = 2.5e6\n",
    "b = 1.2e7\n",
    "print(a + b)"
   ]
  },
  {
   "cell_type": "code",
   "execution_count": 14,
   "id": "2396de1e",
   "metadata": {},
   "outputs": [
    {
     "name": "stdout",
     "output_type": "stream",
     "text": [
      "2.72e+75\n"
     ]
    }
   ],
   "source": [
    "c = 2.6e75\n",
    "d = 1.2e74\n",
    "print(c + d)"
   ]
  }
 ],
 "metadata": {
  "kernelspec": {
   "display_name": "Python 3",
   "language": "python",
   "name": "python3"
  },
  "language_info": {
   "codemirror_mode": {
    "name": "ipython",
    "version": 3
   },
   "file_extension": ".py",
   "mimetype": "text/x-python",
   "name": "python",
   "nbconvert_exporter": "python",
   "pygments_lexer": "ipython3",
   "version": "3.13.3"
  }
 },
 "nbformat": 4,
 "nbformat_minor": 5
}
