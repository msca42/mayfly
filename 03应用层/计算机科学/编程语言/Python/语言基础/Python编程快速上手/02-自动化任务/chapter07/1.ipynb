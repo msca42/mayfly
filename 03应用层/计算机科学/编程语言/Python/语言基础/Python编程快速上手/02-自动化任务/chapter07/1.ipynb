{
 "cells": [
  {
   "cell_type": "code",
   "execution_count": 1,
   "id": "1fb6b595",
   "metadata": {},
   "outputs": [],
   "source": [
    "import re"
   ]
  },
  {
   "cell_type": "code",
   "execution_count": 2,
   "id": "894dfb87",
   "metadata": {},
   "outputs": [],
   "source": [
    "phoneNumRegex = re.compile(r'\\d\\d\\d-\\d\\d\\d-\\d\\d\\d\\d')"
   ]
  },
  {
   "cell_type": "code",
   "execution_count": 3,
   "id": "62af60a4",
   "metadata": {},
   "outputs": [],
   "source": [
    "mo = phoneNumRegex.search('My number is 415-555-4242.')"
   ]
  },
  {
   "cell_type": "code",
   "execution_count": 4,
   "id": "7de88683",
   "metadata": {},
   "outputs": [
    {
     "name": "stdout",
     "output_type": "stream",
     "text": [
      "Phone numnber found: 415-555-4242\n"
     ]
    }
   ],
   "source": [
    "print('Phone numnber found: ' + mo.group())"
   ]
  },
  {
   "cell_type": "code",
   "execution_count": 7,
   "id": "e1859eb1",
   "metadata": {},
   "outputs": [],
   "source": [
    "phoneNumRegex = re.compile(r'(\\d\\d\\d)-(\\d\\d\\d-\\d\\d\\d\\d)')"
   ]
  },
  {
   "cell_type": "code",
   "execution_count": 8,
   "id": "1c6fdf46",
   "metadata": {},
   "outputs": [],
   "source": [
    "mo = phoneNumRegex.search('My number is 415-555-4242.')"
   ]
  },
  {
   "cell_type": "code",
   "execution_count": 9,
   "id": "cd98ba07",
   "metadata": {},
   "outputs": [
    {
     "data": {
      "text/plain": [
       "'415'"
      ]
     },
     "execution_count": 9,
     "metadata": {},
     "output_type": "execute_result"
    }
   ],
   "source": [
    "mo.group(1)"
   ]
  },
  {
   "cell_type": "code",
   "execution_count": 10,
   "id": "01536beb",
   "metadata": {},
   "outputs": [
    {
     "data": {
      "text/plain": [
       "'555-4242'"
      ]
     },
     "execution_count": 10,
     "metadata": {},
     "output_type": "execute_result"
    }
   ],
   "source": [
    "mo.group(2)"
   ]
  },
  {
   "cell_type": "code",
   "execution_count": 11,
   "id": "a79a2cd3",
   "metadata": {},
   "outputs": [
    {
     "data": {
      "text/plain": [
       "'415-555-4242'"
      ]
     },
     "execution_count": 11,
     "metadata": {},
     "output_type": "execute_result"
    }
   ],
   "source": [
    "mo.group(0)"
   ]
  },
  {
   "cell_type": "code",
   "execution_count": 12,
   "id": "beeb531e",
   "metadata": {},
   "outputs": [
    {
     "data": {
      "text/plain": [
       "'415-555-4242'"
      ]
     },
     "execution_count": 12,
     "metadata": {},
     "output_type": "execute_result"
    }
   ],
   "source": [
    "mo.group()"
   ]
  },
  {
   "cell_type": "code",
   "execution_count": 13,
   "id": "9ab31777",
   "metadata": {},
   "outputs": [
    {
     "data": {
      "text/plain": [
       "('415', '555-4242')"
      ]
     },
     "execution_count": 13,
     "metadata": {},
     "output_type": "execute_result"
    }
   ],
   "source": [
    "mo.groups()"
   ]
  },
  {
   "cell_type": "code",
   "execution_count": 14,
   "id": "6c60556e",
   "metadata": {},
   "outputs": [],
   "source": [
    "areaCode, mainNumber = mo.groups()"
   ]
  },
  {
   "cell_type": "code",
   "execution_count": 15,
   "id": "653161ae",
   "metadata": {},
   "outputs": [
    {
     "name": "stdout",
     "output_type": "stream",
     "text": [
      "415\n"
     ]
    }
   ],
   "source": [
    "print(areaCode)"
   ]
  },
  {
   "cell_type": "code",
   "execution_count": 16,
   "id": "2574b5b7",
   "metadata": {},
   "outputs": [
    {
     "name": "stdout",
     "output_type": "stream",
     "text": [
      "555-4242\n"
     ]
    }
   ],
   "source": [
    "print(mainNumber)"
   ]
  },
  {
   "cell_type": "code",
   "execution_count": 17,
   "id": "229b1a18",
   "metadata": {},
   "outputs": [],
   "source": [
    "phoneNumRegex = re.compile(r'(\\(\\d\\d\\d\\))(\\d\\d\\d-\\d\\d\\d\\d)')"
   ]
  },
  {
   "cell_type": "code",
   "execution_count": 18,
   "id": "0cc777de",
   "metadata": {},
   "outputs": [],
   "source": [
    "heroRegex = re.compile(r'Batman|Tina Fey')"
   ]
  },
  {
   "cell_type": "code",
   "execution_count": 19,
   "id": "4f1dbfea",
   "metadata": {},
   "outputs": [],
   "source": [
    "mo1 = heroRegex.search('Batman and Tina Fey.')"
   ]
  },
  {
   "cell_type": "code",
   "execution_count": 20,
   "id": "b4a6b2c6",
   "metadata": {},
   "outputs": [
    {
     "data": {
      "text/plain": [
       "'Batman'"
      ]
     },
     "execution_count": 20,
     "metadata": {},
     "output_type": "execute_result"
    }
   ],
   "source": [
    "mo1.group()"
   ]
  },
  {
   "cell_type": "code",
   "execution_count": 21,
   "id": "180fe74c",
   "metadata": {},
   "outputs": [],
   "source": [
    "mo2 = heroRegex.search('Tina Fey and Batman.')"
   ]
  },
  {
   "cell_type": "code",
   "execution_count": 22,
   "id": "586bd8ac",
   "metadata": {},
   "outputs": [
    {
     "data": {
      "text/plain": [
       "'Tina Fey'"
      ]
     },
     "execution_count": 22,
     "metadata": {},
     "output_type": "execute_result"
    }
   ],
   "source": [
    "mo2.group()"
   ]
  },
  {
   "cell_type": "code",
   "execution_count": 23,
   "id": "44a20039",
   "metadata": {},
   "outputs": [],
   "source": [
    "batRegex = re.compile(r'Bat(man|mobile|copter|bat)')"
   ]
  },
  {
   "cell_type": "code",
   "execution_count": 24,
   "id": "32be2be0",
   "metadata": {},
   "outputs": [],
   "source": [
    "mo = batRegex.search('Batmobile lost a wheel')"
   ]
  },
  {
   "cell_type": "code",
   "execution_count": 25,
   "id": "7d248f16",
   "metadata": {},
   "outputs": [
    {
     "data": {
      "text/plain": [
       "'Batmobile'"
      ]
     },
     "execution_count": 25,
     "metadata": {},
     "output_type": "execute_result"
    }
   ],
   "source": [
    "mo.group()"
   ]
  },
  {
   "cell_type": "code",
   "execution_count": 26,
   "id": "23a5d64c",
   "metadata": {},
   "outputs": [
    {
     "data": {
      "text/plain": [
       "'mobile'"
      ]
     },
     "execution_count": 26,
     "metadata": {},
     "output_type": "execute_result"
    }
   ],
   "source": [
    "mo.group(1)"
   ]
  },
  {
   "cell_type": "code",
   "execution_count": 27,
   "id": "c9edc306",
   "metadata": {},
   "outputs": [],
   "source": [
    "batRegex = re.compile(r'Bat(wo)?man')"
   ]
  },
  {
   "cell_type": "code",
   "execution_count": 28,
   "id": "ffdd9ae0",
   "metadata": {},
   "outputs": [],
   "source": [
    "mo1 = batRegex.search('The Adventures of Batman')"
   ]
  },
  {
   "cell_type": "code",
   "execution_count": 29,
   "id": "50815b65",
   "metadata": {},
   "outputs": [
    {
     "data": {
      "text/plain": [
       "'Batman'"
      ]
     },
     "execution_count": 29,
     "metadata": {},
     "output_type": "execute_result"
    }
   ],
   "source": [
    "mo1.group()"
   ]
  },
  {
   "cell_type": "code",
   "execution_count": 30,
   "id": "0055ad18",
   "metadata": {},
   "outputs": [],
   "source": [
    "mo2 = batRegex.search('The Adventures of Batwoman')"
   ]
  },
  {
   "cell_type": "code",
   "execution_count": 31,
   "id": "6feb896c",
   "metadata": {},
   "outputs": [
    {
     "data": {
      "text/plain": [
       "'Batwoman'"
      ]
     },
     "execution_count": 31,
     "metadata": {},
     "output_type": "execute_result"
    }
   ],
   "source": [
    "mo2.group()"
   ]
  },
  {
   "cell_type": "code",
   "execution_count": 35,
   "id": "6ce8a9b1",
   "metadata": {},
   "outputs": [],
   "source": [
    "phoneNumRegex = re.compile(r'(\\d\\d\\d-)?\\d\\d\\d-\\d\\d\\d\\d')"
   ]
  },
  {
   "cell_type": "code",
   "execution_count": 36,
   "id": "1c26e137",
   "metadata": {},
   "outputs": [],
   "source": [
    "mo1 = phoneNumRegex.search('My number is 415-555-4242')"
   ]
  },
  {
   "cell_type": "code",
   "execution_count": 37,
   "id": "cb8f01ec",
   "metadata": {},
   "outputs": [
    {
     "data": {
      "text/plain": [
       "'415-555-4242'"
      ]
     },
     "execution_count": 37,
     "metadata": {},
     "output_type": "execute_result"
    }
   ],
   "source": [
    "mo1.group()"
   ]
  },
  {
   "cell_type": "code",
   "execution_count": 38,
   "id": "38e03e64",
   "metadata": {},
   "outputs": [],
   "source": [
    "batRegex = re.compile(r'Bat(wo)*man')"
   ]
  },
  {
   "cell_type": "code",
   "execution_count": 39,
   "id": "9849a8cd",
   "metadata": {},
   "outputs": [],
   "source": [
    "mo1 = batRegex.search('The Adventures of Batman')"
   ]
  },
  {
   "cell_type": "code",
   "execution_count": 40,
   "id": "43e99af5",
   "metadata": {},
   "outputs": [
    {
     "data": {
      "text/plain": [
       "'Batman'"
      ]
     },
     "execution_count": 40,
     "metadata": {},
     "output_type": "execute_result"
    }
   ],
   "source": [
    "mo1.group()"
   ]
  },
  {
   "cell_type": "code",
   "execution_count": 41,
   "id": "bc36f9e1",
   "metadata": {},
   "outputs": [],
   "source": [
    "mo2 = batRegex.search('The Adventures of Batwoman')"
   ]
  },
  {
   "cell_type": "code",
   "execution_count": 42,
   "id": "7499f5c3",
   "metadata": {},
   "outputs": [
    {
     "data": {
      "text/plain": [
       "'Batwoman'"
      ]
     },
     "execution_count": 42,
     "metadata": {},
     "output_type": "execute_result"
    }
   ],
   "source": [
    "mo2.group()"
   ]
  },
  {
   "cell_type": "code",
   "execution_count": 44,
   "id": "8519415a",
   "metadata": {},
   "outputs": [],
   "source": [
    "mo3 = batRegex.search('The Adventures of Batwowowowoman')"
   ]
  },
  {
   "cell_type": "code",
   "execution_count": 45,
   "id": "a6e28f30",
   "metadata": {},
   "outputs": [
    {
     "data": {
      "text/plain": [
       "'Batwowowowoman'"
      ]
     },
     "execution_count": 45,
     "metadata": {},
     "output_type": "execute_result"
    }
   ],
   "source": [
    "mo3.group()"
   ]
  },
  {
   "cell_type": "code",
   "execution_count": 46,
   "id": "e0b1bfd6",
   "metadata": {},
   "outputs": [],
   "source": [
    "batRegex = re.compile(r'Bat(wo)+man')"
   ]
  },
  {
   "cell_type": "code",
   "execution_count": 47,
   "id": "7be10fd8",
   "metadata": {},
   "outputs": [],
   "source": [
    "mo1 = batRegex.search('The Adventures of Batwoman')"
   ]
  },
  {
   "cell_type": "code",
   "execution_count": 48,
   "id": "647d1be4",
   "metadata": {},
   "outputs": [
    {
     "data": {
      "text/plain": [
       "'Batwoman'"
      ]
     },
     "execution_count": 48,
     "metadata": {},
     "output_type": "execute_result"
    }
   ],
   "source": [
    "mo1.group()"
   ]
  },
  {
   "cell_type": "code",
   "execution_count": 49,
   "id": "9bcc3bee",
   "metadata": {},
   "outputs": [],
   "source": [
    "mo2 = batRegex.search('The Adventures of Batwowowowoman')"
   ]
  },
  {
   "cell_type": "code",
   "execution_count": 50,
   "id": "df565233",
   "metadata": {},
   "outputs": [
    {
     "data": {
      "text/plain": [
       "'Batwowowowoman'"
      ]
     },
     "execution_count": 50,
     "metadata": {},
     "output_type": "execute_result"
    }
   ],
   "source": [
    "mo2.group()"
   ]
  },
  {
   "cell_type": "code",
   "execution_count": 51,
   "id": "d6cfe859",
   "metadata": {},
   "outputs": [],
   "source": [
    "mo3 = batRegex.search('The Adventures of Batman')"
   ]
  },
  {
   "cell_type": "code",
   "execution_count": 52,
   "id": "c92d5f7f",
   "metadata": {},
   "outputs": [
    {
     "data": {
      "text/plain": [
       "True"
      ]
     },
     "execution_count": 52,
     "metadata": {},
     "output_type": "execute_result"
    }
   ],
   "source": [
    "mo3 == None"
   ]
  },
  {
   "cell_type": "code",
   "execution_count": 53,
   "id": "97b16388",
   "metadata": {},
   "outputs": [],
   "source": [
    "haRegex = re.compile(r'(Ha){3}')"
   ]
  },
  {
   "cell_type": "code",
   "execution_count": 54,
   "id": "1d4680b1",
   "metadata": {},
   "outputs": [],
   "source": [
    "mo1 = haRegex.search('HaHaHa')"
   ]
  },
  {
   "cell_type": "code",
   "execution_count": 55,
   "id": "79bf0059",
   "metadata": {},
   "outputs": [
    {
     "data": {
      "text/plain": [
       "'HaHaHa'"
      ]
     },
     "execution_count": 55,
     "metadata": {},
     "output_type": "execute_result"
    }
   ],
   "source": [
    "mo1.group()"
   ]
  },
  {
   "cell_type": "code",
   "execution_count": 56,
   "id": "412efe49",
   "metadata": {},
   "outputs": [
    {
     "data": {
      "text/plain": [
       "True"
      ]
     },
     "execution_count": 56,
     "metadata": {},
     "output_type": "execute_result"
    }
   ],
   "source": [
    "mo2 = haRegex.search('Ha')\n",
    "mo2 == None"
   ]
  },
  {
   "cell_type": "code",
   "execution_count": 57,
   "id": "c07caa9d",
   "metadata": {},
   "outputs": [
    {
     "data": {
      "text/plain": [
       "'HaHaHaHaHa'"
      ]
     },
     "execution_count": 57,
     "metadata": {},
     "output_type": "execute_result"
    }
   ],
   "source": [
    "greedyHaRegex = re.compile(r'(Ha){3,5}')\n",
    "mo1 = greedyHaRegex.search('HaHaHaHaHa')\n",
    "mo1.group()"
   ]
  },
  {
   "cell_type": "code",
   "execution_count": 58,
   "id": "fa439620",
   "metadata": {},
   "outputs": [
    {
     "data": {
      "text/plain": [
       "'HaHaHa'"
      ]
     },
     "execution_count": 58,
     "metadata": {},
     "output_type": "execute_result"
    }
   ],
   "source": [
    "nongreddyHaRegex = re.compile(r'(Ha){3,5}?')\n",
    "mo2 = nongreddyHaRegex.search('HaHaHaHa')\n",
    "mo2.group()"
   ]
  },
  {
   "cell_type": "code",
   "execution_count": 60,
   "id": "183bdd3e",
   "metadata": {},
   "outputs": [
    {
     "data": {
      "text/plain": [
       "'415-555-9999'"
      ]
     },
     "execution_count": 60,
     "metadata": {},
     "output_type": "execute_result"
    }
   ],
   "source": [
    "phoneNumRegex = re.compile(r'\\d\\d\\d-\\d\\d\\d-\\d\\d\\d\\d')\n",
    "mo = phoneNumRegex.search('Cell: 415-555-9999 Work: 212-555-0000')\n",
    "mo.group()"
   ]
  },
  {
   "cell_type": "code",
   "execution_count": null,
   "id": "36562260",
   "metadata": {},
   "outputs": [
    {
     "data": {
      "text/plain": [
       "['415-555-9999', '212-555-0000']"
      ]
     },
     "execution_count": 62,
     "metadata": {},
     "output_type": "execute_result"
    }
   ],
   "source": [
    "phoneNumRegex = re.compile(r'\\d\\d\\d-\\d\\d\\d-\\d\\d\\d\\d')\n",
    "phoneNumRegex.findall('Cell: 415-555-9999 Work: 212-555-0000')"
   ]
  },
  {
   "cell_type": "code",
   "execution_count": 63,
   "id": "d7df0dae",
   "metadata": {},
   "outputs": [
    {
     "data": {
      "text/plain": [
       "[('415', '555', '9999'), ('212', '555', '0000')]"
      ]
     },
     "execution_count": 63,
     "metadata": {},
     "output_type": "execute_result"
    }
   ],
   "source": [
    "phoneNumRegex = re.compile(r'(\\d\\d\\d)-(\\d\\d\\d)-(\\d\\d\\d\\d)')\n",
    "phoneNumRegex.findall('Cell: 415-555-9999 Work: 212-555-0000')"
   ]
  },
  {
   "cell_type": "code",
   "execution_count": null,
   "id": "1a86d8dd",
   "metadata": {},
   "outputs": [],
   "source": [
    "xmasRegex = re.compile(r'\\d\\s\\w+')"
   ]
  }
 ],
 "metadata": {
  "kernelspec": {
   "display_name": "Python 3",
   "language": "python",
   "name": "python3"
  },
  "language_info": {
   "codemirror_mode": {
    "name": "ipython",
    "version": 3
   },
   "file_extension": ".py",
   "mimetype": "text/x-python",
   "name": "python",
   "nbconvert_exporter": "python",
   "pygments_lexer": "ipython3",
   "version": "3.11.9"
  }
 },
 "nbformat": 4,
 "nbformat_minor": 5
}
