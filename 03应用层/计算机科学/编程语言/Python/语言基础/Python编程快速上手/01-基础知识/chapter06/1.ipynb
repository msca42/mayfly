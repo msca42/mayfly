{
 "cells": [
  {
   "cell_type": "code",
   "execution_count": 1,
   "id": "165839d3",
   "metadata": {},
   "outputs": [],
   "source": [
    "spam = \"That is Alice's cat\""
   ]
  },
  {
   "cell_type": "code",
   "execution_count": 2,
   "id": "05120628",
   "metadata": {},
   "outputs": [],
   "source": [
    "spam = 'Say hi to Bob\\'s mother'"
   ]
  },
  {
   "cell_type": "code",
   "execution_count": 3,
   "id": "098f9d38",
   "metadata": {},
   "outputs": [
    {
     "name": "stdout",
     "output_type": "stream",
     "text": [
      "Hello there!\n",
      "How are you?\n",
      "I'm doing fine.\n"
     ]
    }
   ],
   "source": [
    "print(\"Hello there!\\nHow are you?\\nI\\'m doing fine.\")"
   ]
  },
  {
   "cell_type": "code",
   "execution_count": 4,
   "id": "ecc9f561",
   "metadata": {},
   "outputs": [
    {
     "name": "stdout",
     "output_type": "stream",
     "text": [
      "That is Carol\\'s cat.\n"
     ]
    }
   ],
   "source": [
    "print(r'That is Carol\\'s cat.')"
   ]
  },
  {
   "cell_type": "code",
   "execution_count": 5,
   "id": "d410ca05",
   "metadata": {},
   "outputs": [],
   "source": [
    "spam = 'Hello, world!'"
   ]
  },
  {
   "cell_type": "code",
   "execution_count": 6,
   "id": "0f52ea32",
   "metadata": {},
   "outputs": [
    {
     "data": {
      "text/plain": [
       "'H'"
      ]
     },
     "execution_count": 6,
     "metadata": {},
     "output_type": "execute_result"
    }
   ],
   "source": [
    "spam[0]"
   ]
  },
  {
   "cell_type": "code",
   "execution_count": 7,
   "id": "7deaac94",
   "metadata": {},
   "outputs": [
    {
     "data": {
      "text/plain": [
       "'o'"
      ]
     },
     "execution_count": 7,
     "metadata": {},
     "output_type": "execute_result"
    }
   ],
   "source": [
    "spam[4]"
   ]
  },
  {
   "cell_type": "code",
   "execution_count": 8,
   "id": "146ee1dd",
   "metadata": {},
   "outputs": [
    {
     "data": {
      "text/plain": [
       "'!'"
      ]
     },
     "execution_count": 8,
     "metadata": {},
     "output_type": "execute_result"
    }
   ],
   "source": [
    "spam[-1]"
   ]
  },
  {
   "cell_type": "code",
   "execution_count": 9,
   "id": "e95c9300",
   "metadata": {},
   "outputs": [
    {
     "data": {
      "text/plain": [
       "'Hello'"
      ]
     },
     "execution_count": 9,
     "metadata": {},
     "output_type": "execute_result"
    }
   ],
   "source": [
    "spam[0:5]"
   ]
  },
  {
   "cell_type": "code",
   "execution_count": 10,
   "id": "46f940d0",
   "metadata": {},
   "outputs": [
    {
     "data": {
      "text/plain": [
       "'Hello'"
      ]
     },
     "execution_count": 10,
     "metadata": {},
     "output_type": "execute_result"
    }
   ],
   "source": [
    "spam[:5]"
   ]
  },
  {
   "cell_type": "code",
   "execution_count": 11,
   "id": "ac47f2e7",
   "metadata": {},
   "outputs": [
    {
     "data": {
      "text/plain": [
       "'world!'"
      ]
     },
     "execution_count": 11,
     "metadata": {},
     "output_type": "execute_result"
    }
   ],
   "source": [
    "spam[7:]"
   ]
  },
  {
   "cell_type": "code",
   "execution_count": 16,
   "id": "78ea3ce5",
   "metadata": {},
   "outputs": [],
   "source": [
    "spam = 'Hello, world!'"
   ]
  },
  {
   "cell_type": "code",
   "execution_count": 17,
   "id": "6bb68c6e",
   "metadata": {},
   "outputs": [],
   "source": [
    "fizz = spam[0:5]"
   ]
  },
  {
   "cell_type": "code",
   "execution_count": 18,
   "id": "5976a5ec",
   "metadata": {},
   "outputs": [
    {
     "data": {
      "text/plain": [
       "'Hello'"
      ]
     },
     "execution_count": 18,
     "metadata": {},
     "output_type": "execute_result"
    }
   ],
   "source": [
    "fizz"
   ]
  },
  {
   "cell_type": "code",
   "execution_count": 19,
   "id": "b9e7b763",
   "metadata": {},
   "outputs": [
    {
     "data": {
      "text/plain": [
       "True"
      ]
     },
     "execution_count": 19,
     "metadata": {},
     "output_type": "execute_result"
    }
   ],
   "source": [
    "'Hello' in 'Hello,world'"
   ]
  },
  {
   "cell_type": "code",
   "execution_count": 20,
   "id": "4846728d",
   "metadata": {},
   "outputs": [
    {
     "data": {
      "text/plain": [
       "True"
      ]
     },
     "execution_count": 20,
     "metadata": {},
     "output_type": "execute_result"
    }
   ],
   "source": [
    "'Hello' in 'Hello'"
   ]
  },
  {
   "cell_type": "code",
   "execution_count": 21,
   "id": "391edb28",
   "metadata": {},
   "outputs": [
    {
     "data": {
      "text/plain": [
       "False"
      ]
     },
     "execution_count": 21,
     "metadata": {},
     "output_type": "execute_result"
    }
   ],
   "source": [
    "'HELLO' in 'Hello, World'"
   ]
  },
  {
   "cell_type": "code",
   "execution_count": 22,
   "id": "31af50fd",
   "metadata": {},
   "outputs": [
    {
     "data": {
      "text/plain": [
       "True"
      ]
     },
     "execution_count": 22,
     "metadata": {},
     "output_type": "execute_result"
    }
   ],
   "source": [
    "'' in 'spam'"
   ]
  },
  {
   "cell_type": "code",
   "execution_count": 23,
   "id": "1aefb086",
   "metadata": {},
   "outputs": [
    {
     "data": {
      "text/plain": [
       "False"
      ]
     },
     "execution_count": 23,
     "metadata": {},
     "output_type": "execute_result"
    }
   ],
   "source": [
    "'cats' not in 'cats and dogs'"
   ]
  },
  {
   "cell_type": "code",
   "execution_count": 24,
   "id": "d5c0a65a",
   "metadata": {},
   "outputs": [],
   "source": [
    "name = 'AI'"
   ]
  },
  {
   "cell_type": "code",
   "execution_count": 25,
   "id": "240bd21b",
   "metadata": {},
   "outputs": [],
   "source": [
    "age = 4000"
   ]
  },
  {
   "cell_type": "code",
   "execution_count": 26,
   "id": "35d1d144",
   "metadata": {},
   "outputs": [
    {
     "data": {
      "text/plain": [
       "'Hello, my name is AI. I am 4000 years old.'"
      ]
     },
     "execution_count": 26,
     "metadata": {},
     "output_type": "execute_result"
    }
   ],
   "source": [
    "'Hello, my name is ' + name + '. I am ' + str(age)  + ' years old.'"
   ]
  },
  {
   "cell_type": "code",
   "execution_count": 27,
   "id": "5bdc57ad",
   "metadata": {},
   "outputs": [
    {
     "data": {
      "text/plain": [
       "'My name is AI. I am 4000 years old.'"
      ]
     },
     "execution_count": 27,
     "metadata": {},
     "output_type": "execute_result"
    }
   ],
   "source": [
    "'My name is %s. I am %s years old.'%(name,age)"
   ]
  },
  {
   "cell_type": "code",
   "execution_count": 28,
   "id": "04c66c10",
   "metadata": {},
   "outputs": [
    {
     "data": {
      "text/plain": [
       "'My name is AI. Next year I will  be 4001.'"
      ]
     },
     "execution_count": 28,
     "metadata": {},
     "output_type": "execute_result"
    }
   ],
   "source": [
    "f'My name is {name}. Next year I will  be {age + 1}.'"
   ]
  },
  {
   "cell_type": "code",
   "execution_count": 29,
   "id": "a4548013",
   "metadata": {},
   "outputs": [
    {
     "data": {
      "text/plain": [
       "'My name is {name}. Next year I will  be {age + 1}.'"
      ]
     },
     "execution_count": 29,
     "metadata": {},
     "output_type": "execute_result"
    }
   ],
   "source": [
    "'My name is {name}. Next year I will  be {age + 1}.'"
   ]
  },
  {
   "cell_type": "code",
   "execution_count": 30,
   "id": "e8678970",
   "metadata": {},
   "outputs": [],
   "source": [
    "spam = 'Hello, world!'"
   ]
  }
 ],
 "metadata": {
  "kernelspec": {
   "display_name": "Python 3",
   "language": "python",
   "name": "python3"
  },
  "language_info": {
   "codemirror_mode": {
    "name": "ipython",
    "version": 3
   },
   "file_extension": ".py",
   "mimetype": "text/x-python",
   "name": "python",
   "nbconvert_exporter": "python",
   "pygments_lexer": "ipython3",
   "version": "3.11.9"
  }
 },
 "nbformat": 4,
 "nbformat_minor": 5
}
