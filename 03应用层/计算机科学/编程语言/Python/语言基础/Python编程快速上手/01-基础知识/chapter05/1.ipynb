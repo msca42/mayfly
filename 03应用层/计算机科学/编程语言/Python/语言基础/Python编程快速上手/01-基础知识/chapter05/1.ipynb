{
 "cells": [
  {
   "cell_type": "code",
   "execution_count": 1,
   "id": "0502fb3b",
   "metadata": {},
   "outputs": [],
   "source": [
    "myCat = {'size':'fat','color':'gray','disposition':'loud'}"
   ]
  },
  {
   "cell_type": "code",
   "execution_count": 2,
   "id": "d6e39969",
   "metadata": {},
   "outputs": [
    {
     "data": {
      "text/plain": [
       "'fat'"
      ]
     },
     "execution_count": 2,
     "metadata": {},
     "output_type": "execute_result"
    }
   ],
   "source": [
    "myCat['size']"
   ]
  },
  {
   "cell_type": "code",
   "execution_count": 4,
   "id": "be1574fe",
   "metadata": {},
   "outputs": [
    {
     "data": {
      "text/plain": [
       "'My cat has gray fur.'"
      ]
     },
     "execution_count": 4,
     "metadata": {},
     "output_type": "execute_result"
    }
   ],
   "source": [
    "'My cat has ' + myCat['color'] + ' fur.'"
   ]
  },
  {
   "cell_type": "code",
   "execution_count": 5,
   "id": "8d5aef3f",
   "metadata": {},
   "outputs": [],
   "source": [
    "spam = {12345:'Luggage COmbination', 42:'The Answer'}"
   ]
  },
  {
   "cell_type": "code",
   "execution_count": 10,
   "id": "af1fa28c",
   "metadata": {},
   "outputs": [],
   "source": [
    "spam  = ['cats','dogs','moose']"
   ]
  },
  {
   "cell_type": "code",
   "execution_count": 11,
   "id": "5047bbf8",
   "metadata": {},
   "outputs": [],
   "source": [
    "bacon = ['dogs','moose','cats']"
   ]
  },
  {
   "cell_type": "code",
   "execution_count": 12,
   "id": "b765a8b7",
   "metadata": {},
   "outputs": [
    {
     "data": {
      "text/plain": [
       "False"
      ]
     },
     "execution_count": 12,
     "metadata": {},
     "output_type": "execute_result"
    }
   ],
   "source": [
    "spam == bacon"
   ]
  },
  {
   "cell_type": "code",
   "execution_count": 19,
   "id": "b51e2574",
   "metadata": {},
   "outputs": [],
   "source": [
    "eggs = {'name':'Zophie','species':'cat','age':'8'}"
   ]
  },
  {
   "cell_type": "code",
   "execution_count": 20,
   "id": "93ab4cd8",
   "metadata": {},
   "outputs": [],
   "source": [
    "ham = {'species':'cat','age':'8','name':'Zophie'}"
   ]
  },
  {
   "cell_type": "code",
   "execution_count": 21,
   "id": "9a314099",
   "metadata": {},
   "outputs": [
    {
     "data": {
      "text/plain": [
       "True"
      ]
     },
     "execution_count": 21,
     "metadata": {},
     "output_type": "execute_result"
    }
   ],
   "source": [
    "eggs == ham"
   ]
  },
  {
   "cell_type": "code",
   "execution_count": 22,
   "id": "347fa355",
   "metadata": {},
   "outputs": [],
   "source": [
    "spam = {'name':'Zophie','age':7}"
   ]
  },
  {
   "cell_type": "code",
   "execution_count": 23,
   "id": "f62c399a",
   "metadata": {},
   "outputs": [
    {
     "ename": "KeyError",
     "evalue": "'color'",
     "output_type": "error",
     "traceback": [
      "\u001b[31m---------------------------------------------------------------------------\u001b[39m",
      "\u001b[31mKeyError\u001b[39m                                  Traceback (most recent call last)",
      "\u001b[36mCell\u001b[39m\u001b[36m \u001b[39m\u001b[32mIn[23]\u001b[39m\u001b[32m, line 1\u001b[39m\n\u001b[32m----> \u001b[39m\u001b[32m1\u001b[39m \u001b[43mspam\u001b[49m\u001b[43m[\u001b[49m\u001b[33;43m'\u001b[39;49m\u001b[33;43mcolor\u001b[39;49m\u001b[33;43m'\u001b[39;49m\u001b[43m]\u001b[49m\n",
      "\u001b[31mKeyError\u001b[39m: 'color'"
     ]
    }
   ],
   "source": [
    "spam['color']"
   ]
  },
  {
   "cell_type": "code",
   "execution_count": 24,
   "id": "905e804c",
   "metadata": {},
   "outputs": [],
   "source": [
    "eggs = {'name':'Zophie','species':'cat','age':'8'}"
   ]
  },
  {
   "cell_type": "code",
   "execution_count": 25,
   "id": "5af10c38",
   "metadata": {},
   "outputs": [
    {
     "data": {
      "text/plain": [
       "['name', 'species', 'age']"
      ]
     },
     "execution_count": 25,
     "metadata": {},
     "output_type": "execute_result"
    }
   ],
   "source": [
    "list(eggs)"
   ]
  },
  {
   "cell_type": "code",
   "execution_count": 26,
   "id": "a6db3a76",
   "metadata": {},
   "outputs": [],
   "source": [
    "ham = {'species':'cat','age':'8','name':'Zophie'}"
   ]
  },
  {
   "cell_type": "code",
   "execution_count": 27,
   "id": "db8f21e4",
   "metadata": {},
   "outputs": [
    {
     "data": {
      "text/plain": [
       "['species', 'age', 'name']"
      ]
     },
     "execution_count": 27,
     "metadata": {},
     "output_type": "execute_result"
    }
   ],
   "source": [
    "list(ham)"
   ]
  },
  {
   "cell_type": "code",
   "execution_count": 28,
   "id": "d26a3049",
   "metadata": {},
   "outputs": [],
   "source": [
    "spam = {}"
   ]
  },
  {
   "cell_type": "code",
   "execution_count": 29,
   "id": "ff3f821e",
   "metadata": {},
   "outputs": [],
   "source": [
    "spam['first key'] = 'value'"
   ]
  },
  {
   "cell_type": "code",
   "execution_count": 30,
   "id": "db9fee6a",
   "metadata": {},
   "outputs": [],
   "source": [
    "spam['second key'] = 'value'"
   ]
  },
  {
   "cell_type": "code",
   "execution_count": 31,
   "id": "6ad46e52",
   "metadata": {},
   "outputs": [],
   "source": [
    "spam['third key'] = 'value'"
   ]
  },
  {
   "cell_type": "code",
   "execution_count": 32,
   "id": "8337a0f8",
   "metadata": {},
   "outputs": [
    {
     "data": {
      "text/plain": [
       "['first key', 'second key', 'third key']"
      ]
     },
     "execution_count": 32,
     "metadata": {},
     "output_type": "execute_result"
    }
   ],
   "source": [
    "list(spam)"
   ]
  },
  {
   "cell_type": "code",
   "execution_count": 33,
   "id": "9dbd5187",
   "metadata": {},
   "outputs": [],
   "source": [
    "spam = {'color':'red','age':42}"
   ]
  },
  {
   "cell_type": "code",
   "execution_count": 34,
   "id": "83d67046",
   "metadata": {},
   "outputs": [
    {
     "name": "stdout",
     "output_type": "stream",
     "text": [
      "red\n",
      "42\n"
     ]
    }
   ],
   "source": [
    "for v in spam.values():\n",
    "    print(v)"
   ]
  },
  {
   "cell_type": "code",
   "execution_count": 35,
   "id": "27cf631b",
   "metadata": {},
   "outputs": [
    {
     "name": "stdout",
     "output_type": "stream",
     "text": [
      "color\n",
      "age\n"
     ]
    }
   ],
   "source": [
    "for k in spam.keys():\n",
    "    print(k)"
   ]
  },
  {
   "cell_type": "code",
   "execution_count": 36,
   "id": "c7c2a045",
   "metadata": {},
   "outputs": [
    {
     "name": "stdout",
     "output_type": "stream",
     "text": [
      "('color', 'red')\n",
      "('age', 42)\n"
     ]
    }
   ],
   "source": [
    "for i in spam.items():\n",
    "    print(i)"
   ]
  },
  {
   "cell_type": "code",
   "execution_count": 37,
   "id": "fa254352",
   "metadata": {},
   "outputs": [],
   "source": [
    "spam = {'color':'red','age':42}"
   ]
  },
  {
   "cell_type": "code",
   "execution_count": 38,
   "id": "06deaf3e",
   "metadata": {},
   "outputs": [
    {
     "data": {
      "text/plain": [
       "dict_keys(['color', 'age'])"
      ]
     },
     "execution_count": 38,
     "metadata": {},
     "output_type": "execute_result"
    }
   ],
   "source": [
    "spam.keys()"
   ]
  },
  {
   "cell_type": "code",
   "execution_count": 39,
   "id": "0dcda34d",
   "metadata": {},
   "outputs": [
    {
     "data": {
      "text/plain": [
       "['color', 'age']"
      ]
     },
     "execution_count": 39,
     "metadata": {},
     "output_type": "execute_result"
    }
   ],
   "source": [
    "list(spam.keys())"
   ]
  },
  {
   "cell_type": "code",
   "execution_count": 40,
   "id": "2dded002",
   "metadata": {},
   "outputs": [],
   "source": [
    "spam = {'color':'red','age':42}"
   ]
  },
  {
   "cell_type": "code",
   "execution_count": 41,
   "id": "cad066eb",
   "metadata": {},
   "outputs": [
    {
     "name": "stdout",
     "output_type": "stream",
     "text": [
      "Key: color Value: red\n",
      "Key: age Value: 42\n"
     ]
    }
   ],
   "source": [
    "for k,v in spam.items():\n",
    "    print('Key: ' + k + ' Value: ' + str(v))"
   ]
  },
  {
   "cell_type": "code",
   "execution_count": 42,
   "id": "546be0a3",
   "metadata": {},
   "outputs": [],
   "source": [
    "spam = {'name':'Zophie','age':7}"
   ]
  },
  {
   "cell_type": "code",
   "execution_count": 43,
   "id": "908b3fd7",
   "metadata": {},
   "outputs": [
    {
     "data": {
      "text/plain": [
       "True"
      ]
     },
     "execution_count": 43,
     "metadata": {},
     "output_type": "execute_result"
    }
   ],
   "source": [
    "'name' in spam.keys()"
   ]
  },
  {
   "cell_type": "code",
   "execution_count": 44,
   "id": "c3a6566d",
   "metadata": {},
   "outputs": [
    {
     "data": {
      "text/plain": [
       "True"
      ]
     },
     "execution_count": 44,
     "metadata": {},
     "output_type": "execute_result"
    }
   ],
   "source": [
    "'Zophie' in spam.values()"
   ]
  },
  {
   "cell_type": "code",
   "execution_count": 45,
   "id": "5fe6e7c4",
   "metadata": {},
   "outputs": [
    {
     "data": {
      "text/plain": [
       "False"
      ]
     },
     "execution_count": 45,
     "metadata": {},
     "output_type": "execute_result"
    }
   ],
   "source": [
    "'color' in spam.keys()"
   ]
  },
  {
   "cell_type": "code",
   "execution_count": 46,
   "id": "77985c11",
   "metadata": {},
   "outputs": [
    {
     "data": {
      "text/plain": [
       "True"
      ]
     },
     "execution_count": 46,
     "metadata": {},
     "output_type": "execute_result"
    }
   ],
   "source": [
    "'color' not in spam.keys()"
   ]
  },
  {
   "cell_type": "code",
   "execution_count": 47,
   "id": "3282b994",
   "metadata": {},
   "outputs": [
    {
     "data": {
      "text/plain": [
       "False"
      ]
     },
     "execution_count": 47,
     "metadata": {},
     "output_type": "execute_result"
    }
   ],
   "source": [
    "'color' in spam"
   ]
  },
  {
   "cell_type": "code",
   "execution_count": 48,
   "id": "dcea0152",
   "metadata": {},
   "outputs": [],
   "source": [
    "picnicItems = {'apples': 5, 'cups':2}"
   ]
  },
  {
   "cell_type": "code",
   "execution_count": 50,
   "id": "ac8f466b",
   "metadata": {},
   "outputs": [
    {
     "data": {
      "text/plain": [
       "'I am bringing 2 cups.'"
      ]
     },
     "execution_count": 50,
     "metadata": {},
     "output_type": "execute_result"
    }
   ],
   "source": [
    "'I am bringing ' + str(picnicItems.get('cups',0)) + ' cups.'"
   ]
  },
  {
   "cell_type": "code",
   "execution_count": 51,
   "id": "86aa3e54",
   "metadata": {},
   "outputs": [
    {
     "data": {
      "text/plain": [
       "'I am bringing 0 cups.'"
      ]
     },
     "execution_count": 51,
     "metadata": {},
     "output_type": "execute_result"
    }
   ],
   "source": [
    "'I am bringing ' + str(picnicItems.get('eggs',0)) + ' cups.'"
   ]
  },
  {
   "cell_type": "code",
   "execution_count": 55,
   "id": "6c83cb25",
   "metadata": {},
   "outputs": [],
   "source": [
    "spam = {'name':'Pooka','age':5}"
   ]
  },
  {
   "cell_type": "code",
   "execution_count": 53,
   "id": "d2a57b22",
   "metadata": {},
   "outputs": [],
   "source": [
    "if 'color' not in spam:\n",
    "    spam['color'] = 'black'"
   ]
  },
  {
   "cell_type": "code",
   "execution_count": 56,
   "id": "0918a382",
   "metadata": {},
   "outputs": [
    {
     "data": {
      "text/plain": [
       "'black'"
      ]
     },
     "execution_count": 56,
     "metadata": {},
     "output_type": "execute_result"
    }
   ],
   "source": [
    "spam.setdefault('color','black')"
   ]
  },
  {
   "cell_type": "code",
   "execution_count": 57,
   "id": "d4bd1c47",
   "metadata": {},
   "outputs": [
    {
     "data": {
      "text/plain": [
       "{'name': 'Pooka', 'age': 5, 'color': 'black'}"
      ]
     },
     "execution_count": 57,
     "metadata": {},
     "output_type": "execute_result"
    }
   ],
   "source": [
    "spam"
   ]
  },
  {
   "cell_type": "code",
   "execution_count": 58,
   "id": "26f93296",
   "metadata": {},
   "outputs": [
    {
     "data": {
      "text/plain": [
       "'black'"
      ]
     },
     "execution_count": 58,
     "metadata": {},
     "output_type": "execute_result"
    }
   ],
   "source": [
    "spam.setdefault('color','white')"
   ]
  },
  {
   "cell_type": "code",
   "execution_count": 59,
   "id": "80f43688",
   "metadata": {},
   "outputs": [
    {
     "data": {
      "text/plain": [
       "{'name': 'Pooka', 'age': 5, 'color': 'black'}"
      ]
     },
     "execution_count": 59,
     "metadata": {},
     "output_type": "execute_result"
    }
   ],
   "source": [
    "spam"
   ]
  }
 ],
 "metadata": {
  "kernelspec": {
   "display_name": "Python 3",
   "language": "python",
   "name": "python3"
  },
  "language_info": {
   "codemirror_mode": {
    "name": "ipython",
    "version": 3
   },
   "file_extension": ".py",
   "mimetype": "text/x-python",
   "name": "python",
   "nbconvert_exporter": "python",
   "pygments_lexer": "ipython3",
   "version": "3.11.9"
  }
 },
 "nbformat": 4,
 "nbformat_minor": 5
}
