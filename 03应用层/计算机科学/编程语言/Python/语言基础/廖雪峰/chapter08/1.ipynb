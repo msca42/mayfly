{
 "cells": [
  {
   "cell_type": "code",
   "execution_count": 1,
   "id": "61473e07",
   "metadata": {},
   "outputs": [
    {
     "data": {
      "text/plain": [
       "10"
      ]
     },
     "execution_count": 1,
     "metadata": {},
     "output_type": "execute_result"
    }
   ],
   "source": [
    "abs(-10)"
   ]
  },
  {
   "cell_type": "code",
   "execution_count": 2,
   "id": "15da0371",
   "metadata": {},
   "outputs": [
    {
     "data": {
      "text/plain": [
       "<function abs(x, /)>"
      ]
     },
     "execution_count": 2,
     "metadata": {},
     "output_type": "execute_result"
    }
   ],
   "source": [
    "abs"
   ]
  },
  {
   "cell_type": "code",
   "execution_count": 6,
   "id": "15d74371",
   "metadata": {},
   "outputs": [
    {
     "data": {
      "text/plain": [
       "10"
      ]
     },
     "execution_count": 6,
     "metadata": {},
     "output_type": "execute_result"
    }
   ],
   "source": [
    "x = abs(-10)\n",
    "x"
   ]
  },
  {
   "cell_type": "code",
   "execution_count": 7,
   "id": "b6e7e9c8",
   "metadata": {},
   "outputs": [
    {
     "data": {
      "text/plain": [
       "<function abs(x, /)>"
      ]
     },
     "execution_count": 7,
     "metadata": {},
     "output_type": "execute_result"
    }
   ],
   "source": [
    "f = abs\n",
    "f"
   ]
  },
  {
   "cell_type": "code",
   "execution_count": 8,
   "id": "77a9652c",
   "metadata": {},
   "outputs": [],
   "source": [
    "def add(x,y,f):\n",
    "  return f(x) + f(y)"
   ]
  },
  {
   "cell_type": "code",
   "execution_count": 10,
   "id": "092c75a8",
   "metadata": {},
   "outputs": [],
   "source": [
    "x = -5\n",
    "y = 6\n",
    "f = abs\n"
   ]
  },
  {
   "cell_type": "code",
   "execution_count": 11,
   "id": "4a115ba6",
   "metadata": {},
   "outputs": [
    {
     "name": "stdout",
     "output_type": "stream",
     "text": [
      "11\n"
     ]
    }
   ],
   "source": [
    "print(add(-5,6,abs))"
   ]
  },
  {
   "cell_type": "code",
   "execution_count": 12,
   "id": "a9245a1e",
   "metadata": {},
   "outputs": [
    {
     "data": {
      "text/plain": [
       "[1, 4, 9, 16, 25, 36, 49, 64, 81]"
      ]
     },
     "execution_count": 12,
     "metadata": {},
     "output_type": "execute_result"
    }
   ],
   "source": [
    "def f(x):\n",
    "  return x * x\n",
    "r = map(f,[1,2,3,4,5,6,7,8,9])\n",
    "list(r)"
   ]
  },
  {
   "cell_type": "code",
   "execution_count": 13,
   "id": "457b0ef8",
   "metadata": {},
   "outputs": [
    {
     "data": {
      "text/plain": [
       "25"
      ]
     },
     "execution_count": 13,
     "metadata": {},
     "output_type": "execute_result"
    }
   ],
   "source": [
    "from functools import  reduce\n",
    "def add(x,y):\n",
    "    return x + y\n",
    "reduce(add,[1,3,5,7,9])"
   ]
  },
  {
   "cell_type": "code",
   "execution_count": 14,
   "id": "47155cd7",
   "metadata": {},
   "outputs": [
    {
     "data": {
      "text/plain": [
       "[1, 5, 9, 15]"
      ]
     },
     "execution_count": 14,
     "metadata": {},
     "output_type": "execute_result"
    }
   ],
   "source": [
    "def is_odd(n):\n",
    "    return n % 2 == 1\n",
    "\n",
    "list(filter(is_odd, [1, 2, 4, 5, 6, 9, 10, 15]))"
   ]
  },
  {
   "cell_type": "code",
   "execution_count": 15,
   "id": "bb2b2875",
   "metadata": {},
   "outputs": [
    {
     "data": {
      "text/plain": [
       "[-21, -12, 5, 9, 36]"
      ]
     },
     "execution_count": 15,
     "metadata": {},
     "output_type": "execute_result"
    }
   ],
   "source": [
    "sorted([36, 5, -12, 9, -21])"
   ]
  },
  {
   "cell_type": "code",
   "execution_count": 16,
   "id": "974bf3b4",
   "metadata": {},
   "outputs": [
    {
     "data": {
      "text/plain": [
       "[5, 9, -12, -21, 36]"
      ]
     },
     "execution_count": 16,
     "metadata": {},
     "output_type": "execute_result"
    }
   ],
   "source": [
    "sorted([36, 5, -12, 9, -21], key=abs)"
   ]
  },
  {
   "cell_type": "code",
   "execution_count": 17,
   "id": "fe167222",
   "metadata": {},
   "outputs": [],
   "source": [
    "def lazy_sum(*args):\n",
    "    def sum():\n",
    "        ax = 0\n",
    "        for n in args:\n",
    "            ax = ax + n\n",
    "        return ax\n",
    "    return sum"
   ]
  },
  {
   "cell_type": "code",
   "execution_count": 18,
   "id": "b3cb9aa4",
   "metadata": {},
   "outputs": [],
   "source": [
    "f = lazy_sum(1, 3, 5, 7, 9)"
   ]
  },
  {
   "cell_type": "code",
   "execution_count": 19,
   "id": "994d4d55",
   "metadata": {},
   "outputs": [
    {
     "data": {
      "text/plain": [
       "<function __main__.lazy_sum.<locals>.sum()>"
      ]
     },
     "execution_count": 19,
     "metadata": {},
     "output_type": "execute_result"
    }
   ],
   "source": [
    "f"
   ]
  },
  {
   "cell_type": "code",
   "execution_count": 20,
   "id": "79e671a5",
   "metadata": {},
   "outputs": [
    {
     "data": {
      "text/plain": [
       "25"
      ]
     },
     "execution_count": 20,
     "metadata": {},
     "output_type": "execute_result"
    }
   ],
   "source": [
    "f()"
   ]
  },
  {
   "cell_type": "code",
   "execution_count": 1,
   "id": "e0ba97b8",
   "metadata": {},
   "outputs": [
    {
     "name": "stdout",
     "output_type": "stream",
     "text": [
      "1\n",
      "1\n"
     ]
    }
   ],
   "source": [
    "def inc():\n",
    "  x = 0\n",
    "  def fn():\n",
    "    return x + 1\n",
    "  return fn\n",
    "\n",
    "f = inc()\n",
    "print(f())\n",
    "print(f())"
   ]
  },
  {
   "cell_type": "code",
   "execution_count": 6,
   "id": "3a2ef3e3",
   "metadata": {},
   "outputs": [
    {
     "name": "stdout",
     "output_type": "stream",
     "text": [
      "1\n",
      "2\n"
     ]
    }
   ],
   "source": [
    "def inc():\n",
    "    x = 0\n",
    "    def fn():\n",
    "        nonlocal x\n",
    "        x = x + 1\n",
    "        return x\n",
    "    return fn\n",
    "\n",
    "f = inc()\n",
    "print(f()) # 1\n",
    "print(f()) # 2\n"
   ]
  },
  {
   "cell_type": "code",
   "execution_count": 7,
   "id": "bddc1fdb",
   "metadata": {},
   "outputs": [
    {
     "data": {
      "text/plain": [
       "<function __main__.<lambda>(x)>"
      ]
     },
     "execution_count": 7,
     "metadata": {},
     "output_type": "execute_result"
    }
   ],
   "source": [
    "f = lambda x: x*x \n",
    "f"
   ]
  },
  {
   "cell_type": "code",
   "execution_count": 8,
   "id": "237665d1",
   "metadata": {},
   "outputs": [
    {
     "data": {
      "text/plain": [
       "25"
      ]
     },
     "execution_count": 8,
     "metadata": {},
     "output_type": "execute_result"
    }
   ],
   "source": [
    "f(5)"
   ]
  },
  {
   "cell_type": "code",
   "execution_count": 9,
   "id": "93afb8be",
   "metadata": {},
   "outputs": [],
   "source": [
    "def log(func):\n",
    "  def wrapper(*args,**kw):\n",
    "    print('call %s():' %func.__name__)\n",
    "    return func(*args,**kw)\n",
    "  return wrapper"
   ]
  },
  {
   "cell_type": "code",
   "execution_count": 10,
   "id": "0325e621",
   "metadata": {},
   "outputs": [],
   "source": [
    "@log\n",
    "def now():\n",
    "  print('2024-6-1')"
   ]
  },
  {
   "cell_type": "code",
   "execution_count": 11,
   "id": "36cc4a99",
   "metadata": {},
   "outputs": [
    {
     "name": "stdout",
     "output_type": "stream",
     "text": [
      "call now():\n",
      "2024-6-1\n"
     ]
    }
   ],
   "source": [
    "now()"
   ]
  }
 ],
 "metadata": {
  "kernelspec": {
   "display_name": "Python 3",
   "language": "python",
   "name": "python3"
  },
  "language_info": {
   "codemirror_mode": {
    "name": "ipython",
    "version": 3
   },
   "file_extension": ".py",
   "mimetype": "text/x-python",
   "name": "python",
   "nbconvert_exporter": "python",
   "pygments_lexer": "ipython3",
   "version": "3.13.3"
  }
 },
 "nbformat": 4,
 "nbformat_minor": 5
}
