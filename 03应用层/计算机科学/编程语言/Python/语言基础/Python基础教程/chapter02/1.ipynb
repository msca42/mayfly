{
 "cells": [
  {
   "cell_type": "code",
   "execution_count": 1,
   "id": "28b7af78",
   "metadata": {},
   "outputs": [],
   "source": [
    "edward = ['Edward Gumby',42]"
   ]
  },
  {
   "cell_type": "code",
   "execution_count": 2,
   "id": "820898ac",
   "metadata": {},
   "outputs": [],
   "source": [
    "john = ['John Smitch',50]"
   ]
  },
  {
   "cell_type": "code",
   "execution_count": 3,
   "id": "b58fcbe1",
   "metadata": {},
   "outputs": [],
   "source": [
    "database = [edward,john]"
   ]
  },
  {
   "cell_type": "code",
   "execution_count": 4,
   "id": "0fe8d594",
   "metadata": {},
   "outputs": [
    {
     "data": {
      "text/plain": [
       "[['Edward Gumby', 42], ['John Smitch', 50]]"
      ]
     },
     "execution_count": 4,
     "metadata": {},
     "output_type": "execute_result"
    }
   ],
   "source": [
    "database"
   ]
  },
  {
   "cell_type": "code",
   "execution_count": 5,
   "id": "89f5d079",
   "metadata": {},
   "outputs": [],
   "source": [
    "greeting = 'Hello'"
   ]
  },
  {
   "cell_type": "code",
   "execution_count": 6,
   "id": "1e9859fa",
   "metadata": {},
   "outputs": [
    {
     "data": {
      "text/plain": [
       "'H'"
      ]
     },
     "execution_count": 6,
     "metadata": {},
     "output_type": "execute_result"
    }
   ],
   "source": [
    "greeting[0]"
   ]
  },
  {
   "cell_type": "code",
   "execution_count": 7,
   "id": "024b863d",
   "metadata": {},
   "outputs": [
    {
     "data": {
      "text/plain": [
       "'o'"
      ]
     },
     "execution_count": 7,
     "metadata": {},
     "output_type": "execute_result"
    }
   ],
   "source": [
    "greeting[-1]"
   ]
  },
  {
   "cell_type": "code",
   "execution_count": 8,
   "id": "d7d9a0e1",
   "metadata": {},
   "outputs": [],
   "source": [
    "fourth = input('Year: ')[3]"
   ]
  },
  {
   "cell_type": "code",
   "execution_count": 9,
   "id": "973c4c5f",
   "metadata": {},
   "outputs": [
    {
     "data": {
      "text/plain": [
       "'5'"
      ]
     },
     "execution_count": 9,
     "metadata": {},
     "output_type": "execute_result"
    }
   ],
   "source": [
    "fourth"
   ]
  },
  {
   "cell_type": "code",
   "execution_count": 1,
   "id": "0202441a",
   "metadata": {},
   "outputs": [],
   "source": [
    "tag = '<a href=\"http://www.python.org\">Python web site</a>'"
   ]
  },
  {
   "cell_type": "code",
   "execution_count": 2,
   "id": "a5cf46ad",
   "metadata": {},
   "outputs": [
    {
     "data": {
      "text/plain": [
       "'http://www.python.org'"
      ]
     },
     "execution_count": 2,
     "metadata": {},
     "output_type": "execute_result"
    }
   ],
   "source": [
    "tag[9:30]"
   ]
  },
  {
   "cell_type": "code",
   "execution_count": 3,
   "id": "e2a0ff8c",
   "metadata": {},
   "outputs": [
    {
     "data": {
      "text/plain": [
       "'Python web site'"
      ]
     },
     "execution_count": 3,
     "metadata": {},
     "output_type": "execute_result"
    }
   ],
   "source": [
    "tag[32:-4]"
   ]
  },
  {
   "cell_type": "code",
   "execution_count": 4,
   "id": "62877b56",
   "metadata": {},
   "outputs": [],
   "source": [
    "numbers = [1, 2, 3, 4, 5, 6, 7, 8, 9, 10]"
   ]
  },
  {
   "cell_type": "code",
   "execution_count": 5,
   "id": "d264427b",
   "metadata": {},
   "outputs": [
    {
     "data": {
      "text/plain": [
       "[4, 5, 6]"
      ]
     },
     "execution_count": 5,
     "metadata": {},
     "output_type": "execute_result"
    }
   ],
   "source": [
    "numbers[3:6]"
   ]
  },
  {
   "cell_type": "code",
   "execution_count": 6,
   "id": "a6b06809",
   "metadata": {},
   "outputs": [
    {
     "data": {
      "text/plain": [
       "[1]"
      ]
     },
     "execution_count": 6,
     "metadata": {},
     "output_type": "execute_result"
    }
   ],
   "source": [
    "numbers[0:1]"
   ]
  },
  {
   "cell_type": "code",
   "execution_count": 7,
   "id": "5a938303",
   "metadata": {},
   "outputs": [
    {
     "data": {
      "text/plain": [
       "[8, 9, 10]"
      ]
     },
     "execution_count": 7,
     "metadata": {},
     "output_type": "execute_result"
    }
   ],
   "source": [
    "numbers[7:10]"
   ]
  },
  {
   "cell_type": "code",
   "execution_count": 8,
   "id": "16588753",
   "metadata": {},
   "outputs": [
    {
     "data": {
      "text/plain": [
       "[8, 9]"
      ]
     },
     "execution_count": 8,
     "metadata": {},
     "output_type": "execute_result"
    }
   ],
   "source": [
    "numbers[-3:-1]"
   ]
  },
  {
   "cell_type": "code",
   "execution_count": 9,
   "id": "c0f61a66",
   "metadata": {},
   "outputs": [
    {
     "data": {
      "text/plain": [
       "[]"
      ]
     },
     "execution_count": 9,
     "metadata": {},
     "output_type": "execute_result"
    }
   ],
   "source": [
    "numbers[-3:0]"
   ]
  },
  {
   "cell_type": "code",
   "execution_count": 10,
   "id": "88ea574d",
   "metadata": {},
   "outputs": [
    {
     "data": {
      "text/plain": [
       "[8, 9, 10]"
      ]
     },
     "execution_count": 10,
     "metadata": {},
     "output_type": "execute_result"
    }
   ],
   "source": [
    "numbers[-3:]"
   ]
  },
  {
   "cell_type": "code",
   "execution_count": 11,
   "id": "0344c588",
   "metadata": {},
   "outputs": [
    {
     "data": {
      "text/plain": [
       "[1, 2, 3]"
      ]
     },
     "execution_count": 11,
     "metadata": {},
     "output_type": "execute_result"
    }
   ],
   "source": [
    "numbers[:3]"
   ]
  },
  {
   "cell_type": "code",
   "execution_count": 12,
   "id": "d8a0b0fe",
   "metadata": {},
   "outputs": [
    {
     "data": {
      "text/plain": [
       "[1, 2, 3, 4, 5, 6, 7, 8, 9, 10]"
      ]
     },
     "execution_count": 12,
     "metadata": {},
     "output_type": "execute_result"
    }
   ],
   "source": [
    "numbers[:]"
   ]
  },
  {
   "cell_type": "code",
   "execution_count": 13,
   "id": "1d948075",
   "metadata": {},
   "outputs": [
    {
     "data": {
      "text/plain": [
       "[1, 2, 3, 4, 5, 6, 7, 8, 9, 10]"
      ]
     },
     "execution_count": 13,
     "metadata": {},
     "output_type": "execute_result"
    }
   ],
   "source": [
    "numbers[0:10:1]"
   ]
  },
  {
   "cell_type": "code",
   "execution_count": 14,
   "id": "1d5de6dd",
   "metadata": {},
   "outputs": [
    {
     "data": {
      "text/plain": [
       "[1, 3, 5, 7, 9]"
      ]
     },
     "execution_count": 14,
     "metadata": {},
     "output_type": "execute_result"
    }
   ],
   "source": [
    "numbers[0:10:2]"
   ]
  },
  {
   "cell_type": "code",
   "execution_count": 15,
   "id": "5d047530",
   "metadata": {},
   "outputs": [
    {
     "data": {
      "text/plain": [
       "[4]"
      ]
     },
     "execution_count": 15,
     "metadata": {},
     "output_type": "execute_result"
    }
   ],
   "source": [
    "numbers[3:6:3]"
   ]
  },
  {
   "cell_type": "code",
   "execution_count": 16,
   "id": "88369f74",
   "metadata": {},
   "outputs": [
    {
     "data": {
      "text/plain": [
       "[1, 5, 9]"
      ]
     },
     "execution_count": 16,
     "metadata": {},
     "output_type": "execute_result"
    }
   ],
   "source": [
    "numbers[::4]"
   ]
  },
  {
   "cell_type": "code",
   "execution_count": 17,
   "id": "f10393f9",
   "metadata": {},
   "outputs": [
    {
     "data": {
      "text/plain": [
       "[9, 8, 7, 6, 5]"
      ]
     },
     "execution_count": 17,
     "metadata": {},
     "output_type": "execute_result"
    }
   ],
   "source": [
    "numbers[8:3:-1]"
   ]
  },
  {
   "cell_type": "code",
   "execution_count": 18,
   "id": "5c283504",
   "metadata": {},
   "outputs": [
    {
     "data": {
      "text/plain": [
       "[10, 8, 6, 4, 2]"
      ]
     },
     "execution_count": 18,
     "metadata": {},
     "output_type": "execute_result"
    }
   ],
   "source": [
    "numbers[10:0:-2]"
   ]
  },
  {
   "cell_type": "code",
   "execution_count": 19,
   "id": "ab1dc5f7",
   "metadata": {},
   "outputs": [
    {
     "data": {
      "text/plain": [
       "[]"
      ]
     },
     "execution_count": 19,
     "metadata": {},
     "output_type": "execute_result"
    }
   ],
   "source": [
    "numbers[0:10:-2]"
   ]
  },
  {
   "cell_type": "code",
   "execution_count": 20,
   "id": "753f45ff",
   "metadata": {},
   "outputs": [
    {
     "data": {
      "text/plain": [
       "[10, 8, 6, 4, 2]"
      ]
     },
     "execution_count": 20,
     "metadata": {},
     "output_type": "execute_result"
    }
   ],
   "source": [
    "numbers[::-2]"
   ]
  },
  {
   "cell_type": "code",
   "execution_count": 21,
   "id": "459acdcc",
   "metadata": {},
   "outputs": [
    {
     "data": {
      "text/plain": [
       "[6, 4, 2]"
      ]
     },
     "execution_count": 21,
     "metadata": {},
     "output_type": "execute_result"
    }
   ],
   "source": [
    "numbers[5::-2]"
   ]
  },
  {
   "cell_type": "code",
   "execution_count": 22,
   "id": "477c05df",
   "metadata": {},
   "outputs": [
    {
     "data": {
      "text/plain": [
       "[10, 8]"
      ]
     },
     "execution_count": 22,
     "metadata": {},
     "output_type": "execute_result"
    }
   ],
   "source": [
    "numbers[:5:-2]"
   ]
  },
  {
   "cell_type": "code",
   "execution_count": 23,
   "id": "f97a3be9",
   "metadata": {},
   "outputs": [
    {
     "data": {
      "text/plain": [
       "[1, 2, 3, 4, 5, 6]"
      ]
     },
     "execution_count": 23,
     "metadata": {},
     "output_type": "execute_result"
    }
   ],
   "source": [
    "[1,2,3] + [4,5,6]"
   ]
  },
  {
   "cell_type": "code",
   "execution_count": null,
   "id": "a1d486c1",
   "metadata": {},
   "outputs": [],
   "source": [
    "'Hello,' + 'world'"
   ]
  },
  {
   "cell_type": "code",
   "execution_count": 24,
   "id": "d8c6037c",
   "metadata": {},
   "outputs": [
    {
     "ename": "TypeError",
     "evalue": "can only concatenate list (not \"str\") to list",
     "output_type": "error",
     "traceback": [
      "\u001b[31m---------------------------------------------------------------------------\u001b[39m",
      "\u001b[31mTypeError\u001b[39m                                 Traceback (most recent call last)",
      "\u001b[36mCell\u001b[39m\u001b[36m \u001b[39m\u001b[32mIn[24]\u001b[39m\u001b[32m, line 1\u001b[39m\n\u001b[32m----> \u001b[39m\u001b[32m1\u001b[39m \u001b[43m[\u001b[49m\u001b[32;43m1\u001b[39;49m\u001b[43m,\u001b[49m\u001b[32;43m2\u001b[39;49m\u001b[43m,\u001b[49m\u001b[32;43m3\u001b[39;49m\u001b[43m]\u001b[49m\u001b[43m \u001b[49m\u001b[43m+\u001b[49m\u001b[43m \u001b[49m\u001b[33;43m'\u001b[39;49m\u001b[33;43mworld!\u001b[39;49m\u001b[33;43m'\u001b[39;49m\n",
      "\u001b[31mTypeError\u001b[39m: can only concatenate list (not \"str\") to list"
     ]
    }
   ],
   "source": [
    "[1,2,3] + 'world!'"
   ]
  },
  {
   "cell_type": "code",
   "execution_count": 25,
   "id": "29880df3",
   "metadata": {},
   "outputs": [
    {
     "data": {
      "text/plain": [
       "'pythonpythonpythonpythonpython'"
      ]
     },
     "execution_count": 25,
     "metadata": {},
     "output_type": "execute_result"
    }
   ],
   "source": [
    "'python' *  5"
   ]
  },
  {
   "cell_type": "code",
   "execution_count": 27,
   "id": "924bbd33",
   "metadata": {},
   "outputs": [
    {
     "data": {
      "text/plain": [
       "[42, 42, 42, 42, 42, 42, 42, 42, 42, 42]"
      ]
     },
     "execution_count": 27,
     "metadata": {},
     "output_type": "execute_result"
    }
   ],
   "source": [
    "[42] * 10"
   ]
  },
  {
   "cell_type": "code",
   "execution_count": 28,
   "id": "9be46f4c",
   "metadata": {},
   "outputs": [],
   "source": [
    "sequence = [None] * 10"
   ]
  },
  {
   "cell_type": "code",
   "execution_count": 29,
   "id": "e3e51ef7",
   "metadata": {},
   "outputs": [
    {
     "data": {
      "text/plain": [
       "[None, None, None, None, None, None, None, None, None, None]"
      ]
     },
     "execution_count": 29,
     "metadata": {},
     "output_type": "execute_result"
    }
   ],
   "source": [
    "sequence"
   ]
  }
 ],
 "metadata": {
  "kernelspec": {
   "display_name": "Python 3",
   "language": "python",
   "name": "python3"
  },
  "language_info": {
   "codemirror_mode": {
    "name": "ipython",
    "version": 3
   },
   "file_extension": ".py",
   "mimetype": "text/x-python",
   "name": "python",
   "nbconvert_exporter": "python",
   "pygments_lexer": "ipython3",
   "version": "3.11.9"
  }
 },
 "nbformat": 4,
 "nbformat_minor": 5
}
