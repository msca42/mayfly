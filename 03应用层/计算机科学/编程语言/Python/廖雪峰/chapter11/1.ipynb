{
 "cells": [
  {
   "cell_type": "code",
   "execution_count": 1,
   "id": "1e4ec80b",
   "metadata": {},
   "outputs": [],
   "source": [
    "class Student(object):\n",
    "    pass"
   ]
  },
  {
   "cell_type": "code",
   "execution_count": 2,
   "id": "ed49096f",
   "metadata": {},
   "outputs": [],
   "source": [
    "s = Student()"
   ]
  },
  {
   "cell_type": "code",
   "execution_count": 4,
   "id": "0a4c3e58",
   "metadata": {},
   "outputs": [
    {
     "name": "stdout",
     "output_type": "stream",
     "text": [
      "Michael\n"
     ]
    }
   ],
   "source": [
    "s.name = 'Michael'\n",
    "print(s.name)"
   ]
  },
  {
   "cell_type": "code",
   "execution_count": 5,
   "id": "948ed7f1",
   "metadata": {},
   "outputs": [],
   "source": [
    "def set_age(self,age):\n",
    "  self.age = age"
   ]
  },
  {
   "cell_type": "code",
   "execution_count": 6,
   "id": "cc7a6c4d",
   "metadata": {},
   "outputs": [],
   "source": [
    "from types import MethodType\n",
    "s.set_age = MethodType(set_age,s)"
   ]
  },
  {
   "cell_type": "code",
   "execution_count": 7,
   "id": "9c9915ca",
   "metadata": {},
   "outputs": [],
   "source": [
    "s.set_age(25)"
   ]
  },
  {
   "cell_type": "code",
   "execution_count": 8,
   "id": "8baf7def",
   "metadata": {},
   "outputs": [
    {
     "data": {
      "text/plain": [
       "25"
      ]
     },
     "execution_count": 8,
     "metadata": {},
     "output_type": "execute_result"
    }
   ],
   "source": [
    "s.age"
   ]
  },
  {
   "cell_type": "code",
   "execution_count": 9,
   "id": "8dac1ae0",
   "metadata": {},
   "outputs": [],
   "source": [
    "def set_score(self,score):\n",
    "  self.score = score\n",
    "\n",
    "Student.set_score = set_score"
   ]
  },
  {
   "cell_type": "code",
   "execution_count": 14,
   "id": "8da66dc2",
   "metadata": {},
   "outputs": [],
   "source": [
    "class Student(object):\n",
    "  __slots__= ('name','age')\n",
    "\n",
    "s = Student()\n",
    "s.name = 'Michael'\n",
    "s.age = 25\n"
   ]
  },
  {
   "cell_type": "code",
   "execution_count": 15,
   "id": "9b5bb900",
   "metadata": {},
   "outputs": [
    {
     "ename": "AttributeError",
     "evalue": "'Student' object has no attribute 'score' and no __dict__ for setting new attributes",
     "output_type": "error",
     "traceback": [
      "\u001b[31m---------------------------------------------------------------------------\u001b[39m",
      "\u001b[31mAttributeError\u001b[39m                            Traceback (most recent call last)",
      "\u001b[36mCell\u001b[39m\u001b[36m \u001b[39m\u001b[32mIn[15]\u001b[39m\u001b[32m, line 1\u001b[39m\n\u001b[32m----> \u001b[39m\u001b[32m1\u001b[39m \u001b[43ms\u001b[49m\u001b[43m.\u001b[49m\u001b[43mscore\u001b[49m = \u001b[32m99\u001b[39m\n",
      "\u001b[31mAttributeError\u001b[39m: 'Student' object has no attribute 'score' and no __dict__ for setting new attributes"
     ]
    }
   ],
   "source": [
    "s.score = 99"
   ]
  },
  {
   "cell_type": "code",
   "execution_count": 17,
   "id": "429dd069",
   "metadata": {},
   "outputs": [],
   "source": [
    "class Student(object):\n",
    "    def get_score(self):\n",
    "         return self._score\n",
    "\n",
    "    def set_score(self, value):\n",
    "        if not isinstance(value, int):\n",
    "            raise ValueError('score must be an integer!')\n",
    "        if value < 0 or value > 100:\n",
    "            raise ValueError('score must between 0 ~ 100!')\n",
    "        self._score = value"
   ]
  },
  {
   "cell_type": "code",
   "execution_count": 18,
   "id": "0e30c027",
   "metadata": {},
   "outputs": [],
   "source": [
    "s = Student()"
   ]
  },
  {
   "cell_type": "code",
   "execution_count": 19,
   "id": "5101c572",
   "metadata": {},
   "outputs": [],
   "source": [
    "s.set_score(60)"
   ]
  },
  {
   "cell_type": "code",
   "execution_count": 20,
   "id": "8f59edf1",
   "metadata": {},
   "outputs": [
    {
     "data": {
      "text/plain": [
       "60"
      ]
     },
     "execution_count": 20,
     "metadata": {},
     "output_type": "execute_result"
    }
   ],
   "source": [
    "s.get_score()"
   ]
  },
  {
   "cell_type": "code",
   "execution_count": 21,
   "id": "3beb93e9",
   "metadata": {},
   "outputs": [
    {
     "ename": "ValueError",
     "evalue": "score must between 0 ~ 100!",
     "output_type": "error",
     "traceback": [
      "\u001b[31m---------------------------------------------------------------------------\u001b[39m",
      "\u001b[31mValueError\u001b[39m                                Traceback (most recent call last)",
      "\u001b[36mCell\u001b[39m\u001b[36m \u001b[39m\u001b[32mIn[21]\u001b[39m\u001b[32m, line 1\u001b[39m\n\u001b[32m----> \u001b[39m\u001b[32m1\u001b[39m \u001b[43ms\u001b[49m\u001b[43m.\u001b[49m\u001b[43mset_score\u001b[49m\u001b[43m(\u001b[49m\u001b[32;43m9999\u001b[39;49m\u001b[43m)\u001b[49m\n",
      "\u001b[36mCell\u001b[39m\u001b[36m \u001b[39m\u001b[32mIn[17]\u001b[39m\u001b[32m, line 9\u001b[39m, in \u001b[36mStudent.set_score\u001b[39m\u001b[34m(self, value)\u001b[39m\n\u001b[32m      7\u001b[39m     \u001b[38;5;28;01mraise\u001b[39;00m \u001b[38;5;167;01mValueError\u001b[39;00m(\u001b[33m'\u001b[39m\u001b[33mscore must be an integer!\u001b[39m\u001b[33m'\u001b[39m)\n\u001b[32m      8\u001b[39m \u001b[38;5;28;01mif\u001b[39;00m value < \u001b[32m0\u001b[39m \u001b[38;5;129;01mor\u001b[39;00m value > \u001b[32m100\u001b[39m:\n\u001b[32m----> \u001b[39m\u001b[32m9\u001b[39m     \u001b[38;5;28;01mraise\u001b[39;00m \u001b[38;5;167;01mValueError\u001b[39;00m(\u001b[33m'\u001b[39m\u001b[33mscore must between 0 ~ 100!\u001b[39m\u001b[33m'\u001b[39m)\n\u001b[32m     10\u001b[39m \u001b[38;5;28mself\u001b[39m._score = value\n",
      "\u001b[31mValueError\u001b[39m: score must between 0 ~ 100!"
     ]
    }
   ],
   "source": [
    "s.set_score(9999)"
   ]
  },
  {
   "cell_type": "code",
   "execution_count": 32,
   "id": "a40fc272",
   "metadata": {},
   "outputs": [],
   "source": [
    "class Student(object):\n",
    "  @property\n",
    "  def score(self):\n",
    "    return self._score\n",
    "  \n",
    "  @score.setter\n",
    "  def score(self,value):\n",
    "    if not isinstance(value, int):\n",
    "        raise ValueError('score must be an integer!')\n",
    "    if value < 0 or value > 100:\n",
    "        raise ValueError('score must between 0 ~ 100!')\n",
    "    self._score = value"
   ]
  },
  {
   "cell_type": "code",
   "execution_count": 33,
   "id": "763ab8f3",
   "metadata": {},
   "outputs": [],
   "source": [
    "s = Student()"
   ]
  },
  {
   "cell_type": "code",
   "execution_count": 34,
   "id": "a31922b6",
   "metadata": {},
   "outputs": [],
   "source": [
    "s.score = 60"
   ]
  },
  {
   "cell_type": "code",
   "execution_count": 35,
   "id": "47a389c8",
   "metadata": {},
   "outputs": [
    {
     "data": {
      "text/plain": [
       "60"
      ]
     },
     "execution_count": 35,
     "metadata": {},
     "output_type": "execute_result"
    }
   ],
   "source": [
    "s.score"
   ]
  },
  {
   "cell_type": "code",
   "execution_count": 36,
   "id": "8793ce3a",
   "metadata": {},
   "outputs": [],
   "source": [
    "class Runnable(object):\n",
    "    def run(self):\n",
    "        print('Running...')\n",
    "\n",
    "class Flyable(object):\n",
    "    def fly(self):\n",
    "        print('Flying...')\n"
   ]
  },
  {
   "cell_type": "code",
   "execution_count": 37,
   "id": "eb78799f",
   "metadata": {},
   "outputs": [],
   "source": [
    "class Animal(object):\n",
    "    pass\n",
    "\n",
    "# 大类:\n",
    "class Mammal(Animal):\n",
    "    pass\n",
    "\n",
    "class Bird(Animal):\n",
    "    pass\n",
    "\n",
    "# 各种动物:\n",
    "class Dog(Mammal,Runnable):\n",
    "    pass\n",
    "\n",
    "class Bat(Mammal,Flyable):\n",
    "    pass\n",
    "\n",
    "class Parrot(Bird):\n",
    "    pass\n",
    "\n",
    "class Ostrich(Bird):\n",
    "    pass\n"
   ]
  },
  {
   "cell_type": "code",
   "execution_count": 1,
   "id": "45b3569a",
   "metadata": {},
   "outputs": [
    {
     "name": "stdout",
     "output_type": "stream",
     "text": [
      "<__main__.Student object at 0x0000024A54DE3B60>\n"
     ]
    }
   ],
   "source": [
    "class Student(object):\n",
    "  def __init__(self,name):\n",
    "    self.name = name\n",
    "\n",
    "print(Student('Michael'))"
   ]
  }
 ],
 "metadata": {
  "kernelspec": {
   "display_name": "Python 3",
   "language": "python",
   "name": "python3"
  },
  "language_info": {
   "codemirror_mode": {
    "name": "ipython",
    "version": 3
   },
   "file_extension": ".py",
   "mimetype": "text/x-python",
   "name": "python",
   "nbconvert_exporter": "python",
   "pygments_lexer": "ipython3",
   "version": "3.13.3"
  }
 },
 "nbformat": 4,
 "nbformat_minor": 5
}
