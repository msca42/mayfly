{
 "cells": [
  {
   "cell_type": "code",
   "execution_count": 1,
   "id": "644bb4d2",
   "metadata": {},
   "outputs": [],
   "source": [
    "import pyautogui"
   ]
  },
  {
   "cell_type": "code",
   "execution_count": 2,
   "id": "d875f222",
   "metadata": {},
   "outputs": [],
   "source": [
    "wh = pyautogui.size() # Obtain the screen resolution."
   ]
  },
  {
   "cell_type": "code",
   "execution_count": 3,
   "id": "cef7351e",
   "metadata": {},
   "outputs": [
    {
     "data": {
      "text/plain": [
       "Size(width=2560, height=1440)"
      ]
     },
     "execution_count": 3,
     "metadata": {},
     "output_type": "execute_result"
    }
   ],
   "source": [
    "wh"
   ]
  },
  {
   "cell_type": "code",
   "execution_count": 5,
   "id": "8e9b7412",
   "metadata": {},
   "outputs": [
    {
     "data": {
      "text/plain": [
       "2560"
      ]
     },
     "execution_count": 5,
     "metadata": {},
     "output_type": "execute_result"
    }
   ],
   "source": [
    "wh[0]"
   ]
  },
  {
   "cell_type": "code",
   "execution_count": 6,
   "id": "199a535c",
   "metadata": {},
   "outputs": [
    {
     "data": {
      "text/plain": [
       "2560"
      ]
     },
     "execution_count": 6,
     "metadata": {},
     "output_type": "execute_result"
    }
   ],
   "source": [
    "wh.width"
   ]
  },
  {
   "cell_type": "code",
   "execution_count": 7,
   "id": "a3368a4f",
   "metadata": {},
   "outputs": [
    {
     "ename": "FailSafeException",
     "evalue": "PyAutoGUI fail-safe triggered from mouse moving to a corner of the screen. To disable this fail-safe, set pyautogui.FAILSAFE to False. DISABLING FAIL-SAFE IS NOT RECOMMENDED.",
     "output_type": "error",
     "traceback": [
      "\u001b[31m---------------------------------------------------------------------------\u001b[39m",
      "\u001b[31mFailSafeException\u001b[39m                         Traceback (most recent call last)",
      "\u001b[36mCell\u001b[39m\u001b[36m \u001b[39m\u001b[32mIn[7]\u001b[39m\u001b[32m, line 3\u001b[39m\n\u001b[32m      1\u001b[39m \u001b[38;5;28;01mfor\u001b[39;00m i \u001b[38;5;129;01min\u001b[39;00m \u001b[38;5;28mrange\u001b[39m(\u001b[32m10\u001b[39m):\n\u001b[32m      2\u001b[39m     pyautogui.moveTo(\u001b[32m100\u001b[39m,\u001b[32m100\u001b[39m,duration=\u001b[32m0.25\u001b[39m)\n\u001b[32m----> \u001b[39m\u001b[32m3\u001b[39m     \u001b[43mpyautogui\u001b[49m\u001b[43m.\u001b[49m\u001b[43mmoveTo\u001b[49m\u001b[43m(\u001b[49m\u001b[32;43m200\u001b[39;49m\u001b[43m,\u001b[49m\u001b[32;43m100\u001b[39;49m\u001b[43m,\u001b[49m\u001b[43mduration\u001b[49m\u001b[43m=\u001b[49m\u001b[32;43m0.25\u001b[39;49m\u001b[43m)\u001b[49m\n\u001b[32m      4\u001b[39m     pyautogui.moveTo(\u001b[32m200\u001b[39m,\u001b[32m200\u001b[39m,duration=\u001b[32m0.25\u001b[39m)\n\u001b[32m      5\u001b[39m     pyautogui.moveTo(\u001b[32m100\u001b[39m,\u001b[32m200\u001b[39m,duration=\u001b[32m0.25\u001b[39m)\n",
      "\u001b[36mFile \u001b[39m\u001b[32m~\\AppData\\Roaming\\Python\\Python313\\site-packages\\pyautogui\\__init__.py:593\u001b[39m, in \u001b[36m_genericPyAutoGUIChecks.<locals>.wrapper\u001b[39m\u001b[34m(*args, **kwargs)\u001b[39m\n\u001b[32m    591\u001b[39m \u001b[38;5;129m@functools\u001b[39m.wraps(wrappedFunction)\n\u001b[32m    592\u001b[39m \u001b[38;5;28;01mdef\u001b[39;00m\u001b[38;5;250m \u001b[39m\u001b[34mwrapper\u001b[39m(*args, **kwargs):\n\u001b[32m--> \u001b[39m\u001b[32m593\u001b[39m     \u001b[43mfailSafeCheck\u001b[49m\u001b[43m(\u001b[49m\u001b[43m)\u001b[49m\n\u001b[32m    594\u001b[39m     returnVal = wrappedFunction(*args, **kwargs)\n\u001b[32m    595\u001b[39m     _handlePause(kwargs.get(\u001b[33m\"\u001b[39m\u001b[33m_pause\u001b[39m\u001b[33m\"\u001b[39m, \u001b[38;5;28;01mTrue\u001b[39;00m))\n",
      "\u001b[36mFile \u001b[39m\u001b[32m~\\AppData\\Roaming\\Python\\Python313\\site-packages\\pyautogui\\__init__.py:1734\u001b[39m, in \u001b[36mfailSafeCheck\u001b[39m\u001b[34m()\u001b[39m\n\u001b[32m   1732\u001b[39m \u001b[38;5;28;01mdef\u001b[39;00m\u001b[38;5;250m \u001b[39m\u001b[34mfailSafeCheck\u001b[39m():\n\u001b[32m   1733\u001b[39m     \u001b[38;5;28;01mif\u001b[39;00m FAILSAFE \u001b[38;5;129;01mand\u001b[39;00m \u001b[38;5;28mtuple\u001b[39m(position()) \u001b[38;5;129;01min\u001b[39;00m FAILSAFE_POINTS:\n\u001b[32m-> \u001b[39m\u001b[32m1734\u001b[39m         \u001b[38;5;28;01mraise\u001b[39;00m FailSafeException(\n\u001b[32m   1735\u001b[39m             \u001b[33m\"\u001b[39m\u001b[33mPyAutoGUI fail-safe triggered from mouse moving to a corner of the screen. To disable this fail-safe, set pyautogui.FAILSAFE to False. DISABLING FAIL-SAFE IS NOT RECOMMENDED.\u001b[39m\u001b[33m\"\u001b[39m\n\u001b[32m   1736\u001b[39m         )\n",
      "\u001b[31mFailSafeException\u001b[39m: PyAutoGUI fail-safe triggered from mouse moving to a corner of the screen. To disable this fail-safe, set pyautogui.FAILSAFE to False. DISABLING FAIL-SAFE IS NOT RECOMMENDED."
     ]
    }
   ],
   "source": [
    "for i in range(10):\n",
    "    pyautogui.moveTo(100,100,duration=0.25)\n",
    "    pyautogui.moveTo(200,100,duration=0.25)\n",
    "    pyautogui.moveTo(200,200,duration=0.25)\n",
    "    pyautogui.moveTo(100,200,duration=0.25)"
   ]
  },
  {
   "cell_type": "code",
   "execution_count": 9,
   "id": "c2de7a37",
   "metadata": {},
   "outputs": [],
   "source": [
    "for i in range(10):\n",
    "    pyautogui.move(100,0,duration=0.25)\n",
    "    pyautogui.move(0,100,duration=0.25)\n",
    "    pyautogui.move(-100,0,duration=0.25)\n",
    "    pyautogui.move(0,-100,duration=0.25)"
   ]
  },
  {
   "cell_type": "code",
   "execution_count": 10,
   "id": "dde162f7",
   "metadata": {},
   "outputs": [
    {
     "data": {
      "text/plain": [
       "Point(x=1617, y=1008)"
      ]
     },
     "execution_count": 10,
     "metadata": {},
     "output_type": "execute_result"
    }
   ],
   "source": [
    "pyautogui.position()"
   ]
  },
  {
   "cell_type": "code",
   "execution_count": 11,
   "id": "16f55272",
   "metadata": {},
   "outputs": [
    {
     "data": {
      "text/plain": [
       "Point(x=1614, y=1102)"
      ]
     },
     "execution_count": 11,
     "metadata": {},
     "output_type": "execute_result"
    }
   ],
   "source": [
    "pyautogui.position()"
   ]
  },
  {
   "cell_type": "code",
   "execution_count": 24,
   "id": "0f9abcb9",
   "metadata": {},
   "outputs": [],
   "source": [
    "p = pyautogui.position()"
   ]
  },
  {
   "cell_type": "code",
   "execution_count": 25,
   "id": "1f4d62ba",
   "metadata": {},
   "outputs": [
    {
     "data": {
      "text/plain": [
       "Point(x=358, y=465)"
      ]
     },
     "execution_count": 25,
     "metadata": {},
     "output_type": "execute_result"
    }
   ],
   "source": [
    "p"
   ]
  },
  {
   "cell_type": "code",
   "execution_count": 30,
   "id": "669c1abd",
   "metadata": {},
   "outputs": [],
   "source": [
    "pyautogui.click(10,5)"
   ]
  },
  {
   "cell_type": "code",
   "execution_count": null,
   "id": "c631bad8",
   "metadata": {},
   "outputs": [],
   "source": [
    "pyautogui.scroll(200)"
   ]
  },
  {
   "cell_type": "code",
   "execution_count": 36,
   "id": "a1a9d9fd",
   "metadata": {},
   "outputs": [],
   "source": [
    "pyautogui.mouseInfo()"
   ]
  }
 ],
 "metadata": {
  "kernelspec": {
   "display_name": "Python 3",
   "language": "python",
   "name": "python3"
  },
  "language_info": {
   "codemirror_mode": {
    "name": "ipython",
    "version": 3
   },
   "file_extension": ".py",
   "mimetype": "text/x-python",
   "name": "python",
   "nbconvert_exporter": "python",
   "pygments_lexer": "ipython3",
   "version": "3.13.2"
  }
 },
 "nbformat": 4,
 "nbformat_minor": 5
}
