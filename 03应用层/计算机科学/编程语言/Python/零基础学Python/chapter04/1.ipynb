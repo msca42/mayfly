{
 "cells": [
  {
   "cell_type": "code",
   "execution_count": 3,
   "metadata": {},
   "outputs": [
    {
     "name": "stdout",
     "output_type": "stream",
     "text": [
      "------\n"
     ]
    }
   ],
   "source": [
    "if False:\n",
    "    print(\"成立\")\n",
    "    print(\"成立2\")\n",
    "print(\"------\")"
   ]
  },
  {
   "cell_type": "code",
   "execution_count": 6,
   "metadata": {},
   "outputs": [
    {
     "name": "stdout",
     "output_type": "stream",
     "text": [
      "不成立\n",
      "------\n"
     ]
    }
   ],
   "source": [
    "if False:\n",
    "    print(\"成立\")\n",
    "else:\n",
    "    print(\"不成立\")\n",
    "print(\"------\")"
   ]
  },
  {
   "cell_type": "code",
   "execution_count": 7,
   "metadata": {},
   "outputs": [
    {
     "name": "stdout",
     "output_type": "stream",
     "text": [
      "Bad request\n"
     ]
    }
   ],
   "source": [
    "http_response_status = 400\n",
    "\n",
    "match http_response_status:\n",
    "    case 400:\n",
    "        print(\"Bad request\")\n",
    "    case 404:\n",
    "        print(\"Not found\")\n",
    "    case 418:\n",
    "        print(\"I'm a teapot\")\n",
    "    case _:\n",
    "        print(\"Something's wrong with  the internet\")"
   ]
  },
  {
   "cell_type": "code",
   "execution_count": 8,
   "metadata": {},
   "outputs": [
    {
     "name": "stdout",
     "output_type": "stream",
     "text": [
      "number is 1\n",
      "number is 2\n",
      "number is 3\n"
     ]
    }
   ],
   "source": [
    "number = 1\n",
    "while number <= 3:\n",
    "    print(f\"number is {number}\")\n",
    "    number_temp = number + 1\n",
    "    number = number_temp"
   ]
  },
  {
   "cell_type": "code",
   "execution_count": 9,
   "metadata": {},
   "outputs": [
    {
     "ename": "NameError",
     "evalue": "name 'list1' is not defined",
     "output_type": "error",
     "traceback": [
      "\u001b[31m---------------------------------------------------------------------------\u001b[39m",
      "\u001b[31mNameError\u001b[39m                                 Traceback (most recent call last)",
      "\u001b[36mCell\u001b[39m\u001b[36m \u001b[39m\u001b[32mIn[9]\u001b[39m\u001b[32m, line 3\u001b[39m\n\u001b[32m      1\u001b[39m number = \u001b[32m1\u001b[39m\n\u001b[32m      2\u001b[39m \u001b[38;5;28;01mwhile\u001b[39;00m number <= \u001b[32m3\u001b[39m:\n\u001b[32m----> \u001b[39m\u001b[32m3\u001b[39m     \u001b[43mlist1\u001b[49m[\u001b[32m1\u001b[39m]\n\u001b[32m      4\u001b[39m     \u001b[38;5;28mprint\u001b[39m(\u001b[33mf\u001b[39m\u001b[33m\"\u001b[39m\u001b[33mnumber is \u001b[39m\u001b[38;5;132;01m{\u001b[39;00mnumber\u001b[38;5;132;01m}\u001b[39;00m\u001b[33m\"\u001b[39m)\n\u001b[32m      5\u001b[39m     number += \u001b[32m1\u001b[39m\n",
      "\u001b[31mNameError\u001b[39m: name 'list1' is not defined"
     ]
    }
   ],
   "source": [
    "number = 1\n",
    "while number <= 3:\n",
    "    list1[1]\n",
    "    print(f\"number is {number}\")\n",
    "    number += 1"
   ]
  },
  {
   "cell_type": "code",
   "execution_count": 11,
   "metadata": {},
   "outputs": [
    {
     "name": "stdout",
     "output_type": "stream",
     "text": [
      "number is True\n"
     ]
    }
   ],
   "source": [
    "number = True\n",
    "while number:\n",
    "    print(f\"number is {number}\")\n",
    "    number = False"
   ]
  },
  {
   "cell_type": "code",
   "execution_count": null,
   "metadata": {},
   "outputs": [],
   "source": [
    "number = 10\n",
    "while number >= 1:\n",
    "    print(f\"number is {number}\")\n",
    "    number -= 1\n",
    "    if number == 5:\n",
    "        break"
   ]
  },
  {
   "cell_type": "code",
   "execution_count": 14,
   "metadata": {},
   "outputs": [],
   "source": [
    "movie1 = {\"name\":\"Friends\",\"language\":\"En\",\"Sessions\":10,\"Other name\":\"Six of One\"}"
   ]
  },
  {
   "cell_type": "code",
   "execution_count": 15,
   "metadata": {},
   "outputs": [
    {
     "name": "stdout",
     "output_type": "stream",
     "text": [
      "name\n",
      "language\n",
      "Sessions\n",
      "Other name\n"
     ]
    }
   ],
   "source": [
    "for title in movie1.keys():\n",
    "    print(title)"
   ]
  },
  {
   "cell_type": "code",
   "execution_count": 16,
   "metadata": {},
   "outputs": [
    {
     "name": "stdout",
     "output_type": "stream",
     "text": [
      "Friends\n",
      "En\n",
      "10\n",
      "Six of One\n"
     ]
    }
   ],
   "source": [
    "for value in movie1.values():\n",
    "    print(value)"
   ]
  },
  {
   "cell_type": "code",
   "execution_count": 17,
   "metadata": {},
   "outputs": [
    {
     "name": "stdout",
     "output_type": "stream",
     "text": [
      "name\n",
      "Friends\n",
      "language\n",
      "En\n",
      "Sessions\n",
      "10\n",
      "Other name\n",
      "Six of One\n"
     ]
    }
   ],
   "source": [
    "for title, value in movie1.items():\n",
    "    print(title)\n",
    "    print(value)"
   ]
  },
  {
   "cell_type": "code",
   "execution_count": 18,
   "metadata": {},
   "outputs": [
    {
     "data": {
      "text/plain": [
       "[1, 2, 3, 4]"
      ]
     },
     "execution_count": 18,
     "metadata": {},
     "output_type": "execute_result"
    }
   ],
   "source": [
    "[i for i in (1,2,3,4)]"
   ]
  },
  {
   "cell_type": "code",
   "execution_count": 19,
   "metadata": {},
   "outputs": [
    {
     "data": {
      "text/plain": [
       "[1, 4, 9, 16]"
      ]
     },
     "execution_count": 19,
     "metadata": {},
     "output_type": "execute_result"
    }
   ],
   "source": [
    "[i*i for i in (1,2,3,4)]"
   ]
  },
  {
   "cell_type": "code",
   "execution_count": 21,
   "metadata": {},
   "outputs": [
    {
     "data": {
      "text/plain": [
       "[9, 16]"
      ]
     },
     "execution_count": 21,
     "metadata": {},
     "output_type": "execute_result"
    }
   ],
   "source": [
    "[i*i for i in (1,2,3,4) if i > 2]"
   ]
  },
  {
   "cell_type": "code",
   "execution_count": 22,
   "metadata": {},
   "outputs": [],
   "source": [
    "data = [\n",
    "    [1,2,1,2,0],\n",
    "    [2,2,2,1,0],\n",
    "    [1,1,2,2,0]\n",
    "]"
   ]
  },
  {
   "cell_type": "code",
   "execution_count": null,
   "metadata": {},
   "outputs": [],
   "source": [
    "number = 100\n",
    "if number < 100:\n",
    "    if number % 7 == 0:\n",
    "        pass\n",
    "    else:\n",
    "        pass\n",
    "else:\n",
    "    pass"
   ]
  }
 ],
 "metadata": {
  "kernelspec": {
   "display_name": "Python 3",
   "language": "python",
   "name": "python3"
  },
  "language_info": {
   "codemirror_mode": {
    "name": "ipython",
    "version": 3
   },
   "file_extension": ".py",
   "mimetype": "text/x-python",
   "name": "python",
   "nbconvert_exporter": "python",
   "pygments_lexer": "ipython3",
   "version": "3.13.2"
  }
 },
 "nbformat": 4,
 "nbformat_minor": 2
}
